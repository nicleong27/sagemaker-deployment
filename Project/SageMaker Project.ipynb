{
 "cells": [
  {
   "cell_type": "markdown",
   "metadata": {},
   "source": [
    "# Creating a Sentiment Analysis Web App\n",
    "## Using PyTorch and SageMaker\n",
    "\n",
    "_Deep Learning Nanodegree Program | Deployment_\n",
    "\n",
    "---\n",
    "\n",
    "Now that we have a basic understanding of how SageMaker works we will try to use it to construct a complete project from end to end. Our goal will be to have a simple web page which a user can use to enter a movie review. The web page will then send the review off to our deployed model which will predict the sentiment of the entered review.\n",
    "\n",
    "## Instructions\n",
    "\n",
    "Some template code has already been provided for you, and you will need to implement additional functionality to successfully complete this notebook. You will not need to modify the included code beyond what is requested. Sections that begin with '**TODO**' in the header indicate that you need to complete or implement some portion within them. Instructions will be provided for each section and the specifics of the implementation are marked in the code block with a `# TODO: ...` comment. Please be sure to read the instructions carefully!\n",
    "\n",
    "In addition to implementing code, there will be questions for you to answer which relate to the task and your implementation. Each section where you will answer a question is preceded by a '**Question:**' header. Carefully read each question and provide your answer below the '**Answer:**' header by editing the Markdown cell.\n",
    "\n",
    "> **Note**: Code and Markdown cells can be executed using the **Shift+Enter** keyboard shortcut. In addition, a cell can be edited by typically clicking it (double-click for Markdown cells) or by pressing **Enter** while it is highlighted.\n",
    "\n",
    "## General Outline\n",
    "\n",
    "Recall the general outline for SageMaker projects using a notebook instance.\n",
    "\n",
    "1. Download or otherwise retrieve the data.\n",
    "2. Process / Prepare the data.\n",
    "3. Upload the processed data to S3.\n",
    "4. Train a chosen model.\n",
    "5. Test the trained model (typically using a batch transform job).\n",
    "6. Deploy the trained model.\n",
    "7. Use the deployed model.\n",
    "\n",
    "For this project, you will be following the steps in the general outline with some modifications. \n",
    "\n",
    "First, you will not be testing the model in its own step. You will still be testing the model, however, you will do it by deploying your model and then using the deployed model by sending the test data to it. One of the reasons for doing this is so that you can make sure that your deployed model is working correctly before moving forward.\n",
    "\n",
    "In addition, you will deploy and use your trained model a second time. In the second iteration you will customize the way that your trained model is deployed by including some of your own code. In addition, your newly deployed model will be used in the sentiment analysis web app."
   ]
  },
  {
   "cell_type": "markdown",
   "metadata": {},
   "source": [
    "## Step 1: Downloading the data\n",
    "\n",
    "As in the XGBoost in SageMaker notebook, we will be using the [IMDb dataset](http://ai.stanford.edu/~amaas/data/sentiment/)\n",
    "\n",
    "> Maas, Andrew L., et al. [Learning Word Vectors for Sentiment Analysis](http://ai.stanford.edu/~amaas/data/sentiment/). In _Proceedings of the 49th Annual Meeting of the Association for Computational Linguistics: Human Language Technologies_. Association for Computational Linguistics, 2011."
   ]
  },
  {
   "cell_type": "code",
   "execution_count": 1,
   "metadata": {},
   "outputs": [
    {
     "name": "stdout",
     "output_type": "stream",
     "text": [
      "--2020-06-23 19:25:39--  http://ai.stanford.edu/~amaas/data/sentiment/aclImdb_v1.tar.gz\n",
      "Resolving ai.stanford.edu (ai.stanford.edu)... 171.64.68.10\n",
      "Connecting to ai.stanford.edu (ai.stanford.edu)|171.64.68.10|:80... connected.\n",
      "HTTP request sent, awaiting response... 200 OK\n",
      "Length: 84125825 (80M) [application/x-gzip]\n",
      "Saving to: ‘../data/aclImdb_v1.tar.gz’\n",
      "\n",
      "../data/aclImdb_v1. 100%[===================>]  80.23M  3.69MB/s    in 11s     \n",
      "\n",
      "2020-06-23 19:25:51 (7.01 MB/s) - ‘../data/aclImdb_v1.tar.gz’ saved [84125825/84125825]\n",
      "\n"
     ]
    }
   ],
   "source": [
    "%mkdir ../data\n",
    "!wget -O ../data/aclImdb_v1.tar.gz http://ai.stanford.edu/~amaas/data/sentiment/aclImdb_v1.tar.gz\n",
    "!tar -zxf ../data/aclImdb_v1.tar.gz -C ../data"
   ]
  },
  {
   "cell_type": "markdown",
   "metadata": {},
   "source": [
    "## Step 2: Preparing and Processing the data\n",
    "\n",
    "Also, as in the XGBoost notebook, we will be doing some initial data processing. The first few steps are the same as in the XGBoost example. To begin with, we will read in each of the reviews and combine them into a single input structure. Then, we will split the dataset into a training set and a testing set."
   ]
  },
  {
   "cell_type": "code",
   "execution_count": 2,
   "metadata": {},
   "outputs": [],
   "source": [
    "import os\n",
    "import glob\n",
    "\n",
    "def read_imdb_data(data_dir='../data/aclImdb'):\n",
    "    data = {}\n",
    "    labels = {}\n",
    "    \n",
    "    for data_type in ['train', 'test']:\n",
    "        data[data_type] = {}\n",
    "        labels[data_type] = {}\n",
    "        \n",
    "        for sentiment in ['pos', 'neg']:\n",
    "            data[data_type][sentiment] = []\n",
    "            labels[data_type][sentiment] = []\n",
    "            \n",
    "            path = os.path.join(data_dir, data_type, sentiment, '*.txt')\n",
    "            files = glob.glob(path)\n",
    "            \n",
    "            for f in files:\n",
    "                with open(f) as review:\n",
    "                    data[data_type][sentiment].append(review.read())\n",
    "                    # Here we represent a positive review by '1' and a negative review by '0'\n",
    "                    labels[data_type][sentiment].append(1 if sentiment == 'pos' else 0)\n",
    "                    \n",
    "            assert len(data[data_type][sentiment]) == len(labels[data_type][sentiment]), \\\n",
    "                    \"{}/{} data size does not match labels size\".format(data_type, sentiment)\n",
    "                \n",
    "    return data, labels"
   ]
  },
  {
   "cell_type": "code",
   "execution_count": 3,
   "metadata": {},
   "outputs": [
    {
     "name": "stdout",
     "output_type": "stream",
     "text": [
      "IMDB reviews: train = 12500 pos / 12500 neg, test = 12500 pos / 12500 neg\n"
     ]
    }
   ],
   "source": [
    "data, labels = read_imdb_data()\n",
    "print(\"IMDB reviews: train = {} pos / {} neg, test = {} pos / {} neg\".format(\n",
    "            len(data['train']['pos']), len(data['train']['neg']),\n",
    "            len(data['test']['pos']), len(data['test']['neg'])))"
   ]
  },
  {
   "cell_type": "markdown",
   "metadata": {},
   "source": [
    "Now that we've read the raw training and testing data from the downloaded dataset, we will combine the positive and negative reviews and shuffle the resulting records."
   ]
  },
  {
   "cell_type": "code",
   "execution_count": 4,
   "metadata": {},
   "outputs": [],
   "source": [
    "from sklearn.utils import shuffle\n",
    "\n",
    "def prepare_imdb_data(data, labels):\n",
    "    \"\"\"Prepare training and test sets from IMDb movie reviews.\"\"\"\n",
    "    \n",
    "    #Combine positive and negative reviews and labels\n",
    "    data_train = data['train']['pos'] + data['train']['neg']\n",
    "    data_test = data['test']['pos'] + data['test']['neg']\n",
    "    labels_train = labels['train']['pos'] + labels['train']['neg']\n",
    "    labels_test = labels['test']['pos'] + labels['test']['neg']\n",
    "    \n",
    "    #Shuffle reviews and corresponding labels within training and test sets\n",
    "    data_train, labels_train = shuffle(data_train, labels_train)\n",
    "    data_test, labels_test = shuffle(data_test, labels_test)\n",
    "    \n",
    "    # Return a unified training data, test data, training labels, test labets\n",
    "    return data_train, data_test, labels_train, labels_test"
   ]
  },
  {
   "cell_type": "code",
   "execution_count": 5,
   "metadata": {},
   "outputs": [
    {
     "name": "stdout",
     "output_type": "stream",
     "text": [
      "IMDb reviews (combined): train = 25000, test = 25000\n"
     ]
    }
   ],
   "source": [
    "train_X, test_X, train_y, test_y = prepare_imdb_data(data, labels)\n",
    "print(\"IMDb reviews (combined): train = {}, test = {}\".format(len(train_X), len(test_X)))"
   ]
  },
  {
   "cell_type": "markdown",
   "metadata": {},
   "source": [
    "Now that we have our training and testing sets unified and prepared, we should do a quick check and see an example of the data our model will be trained on. This is generally a good idea as it allows you to see how each of the further processing steps affects the reviews and it also ensures that the data has been loaded correctly."
   ]
  },
  {
   "cell_type": "code",
   "execution_count": 6,
   "metadata": {},
   "outputs": [
    {
     "name": "stdout",
     "output_type": "stream",
     "text": [
      "This movie brought tears to my eyes; John Roberts really knew how to get to viewers' hearts, directing this wonderful picture where life is viewed through the mind and heart of Paulie. We discover from time to time, with the help of sensitive and talented directors like John, that even small creatures like Paulie have a heart. I just couldn't stop my tears, even though the film has a happy end. This is great, after thousands of films I saw through my life, \"Paulie\" really touched me deeply. This is, after the \"Ugly Duckling\", the second picture that really turned me upside down.\n",
      "1\n"
     ]
    }
   ],
   "source": [
    "print(train_X[100])\n",
    "print(train_y[100])"
   ]
  },
  {
   "cell_type": "markdown",
   "metadata": {},
   "source": [
    "The first step in processing the reviews is to make sure that any html tags that appear should be removed. In addition we wish to tokenize our input, that way words such as *entertained* and *entertaining* are considered the same with regard to sentiment analysis."
   ]
  },
  {
   "cell_type": "code",
   "execution_count": 7,
   "metadata": {},
   "outputs": [],
   "source": [
    "import nltk\n",
    "from nltk.corpus import stopwords\n",
    "from nltk.stem.porter import *\n",
    "\n",
    "import re\n",
    "from bs4 import BeautifulSoup\n",
    "\n",
    "def review_to_words(review):\n",
    "    nltk.download(\"stopwords\", quiet=True)\n",
    "    stemmer = PorterStemmer()\n",
    "    \n",
    "    text = BeautifulSoup(review, \"html.parser\").get_text() # Remove HTML tags\n",
    "    text = re.sub(r\"[^a-zA-Z0-9]\", \" \", text.lower()) # Convert to lower case\n",
    "    words = text.split() # Split string into words\n",
    "    words = [w for w in words if w not in stopwords.words(\"english\")] # Remove stopwords\n",
    "    words = [PorterStemmer().stem(w) for w in words] # stem\n",
    "    \n",
    "    return words"
   ]
  },
  {
   "cell_type": "markdown",
   "metadata": {},
   "source": [
    "The `review_to_words` method defined above uses `BeautifulSoup` to remove any html tags that appear and uses the `nltk` package to tokenize the reviews. As a check to ensure we know how everything is working, try applying `review_to_words` to one of the reviews in the training set."
   ]
  },
  {
   "cell_type": "code",
   "execution_count": 9,
   "metadata": {},
   "outputs": [
    {
     "data": {
      "text/plain": [
       "['movi',\n",
       " 'brought',\n",
       " 'tear',\n",
       " 'eye',\n",
       " 'john',\n",
       " 'robert',\n",
       " 'realli',\n",
       " 'knew',\n",
       " 'get',\n",
       " 'viewer',\n",
       " 'heart',\n",
       " 'direct',\n",
       " 'wonder',\n",
       " 'pictur',\n",
       " 'life',\n",
       " 'view',\n",
       " 'mind',\n",
       " 'heart',\n",
       " 'pauli',\n",
       " 'discov',\n",
       " 'time',\n",
       " 'time',\n",
       " 'help',\n",
       " 'sensit',\n",
       " 'talent',\n",
       " 'director',\n",
       " 'like',\n",
       " 'john',\n",
       " 'even',\n",
       " 'small',\n",
       " 'creatur',\n",
       " 'like',\n",
       " 'pauli',\n",
       " 'heart',\n",
       " 'stop',\n",
       " 'tear',\n",
       " 'even',\n",
       " 'though',\n",
       " 'film',\n",
       " 'happi',\n",
       " 'end',\n",
       " 'great',\n",
       " 'thousand',\n",
       " 'film',\n",
       " 'saw',\n",
       " 'life',\n",
       " 'pauli',\n",
       " 'realli',\n",
       " 'touch',\n",
       " 'deepli',\n",
       " 'ugli',\n",
       " 'duckl',\n",
       " 'second',\n",
       " 'pictur',\n",
       " 'realli',\n",
       " 'turn',\n",
       " 'upsid']"
      ]
     },
     "execution_count": 9,
     "metadata": {},
     "output_type": "execute_result"
    }
   ],
   "source": [
    "# TODO: Apply review_to_words to a review (train_X[100] or any other review)\n",
    "review_to_words(train_X[100])"
   ]
  },
  {
   "cell_type": "markdown",
   "metadata": {},
   "source": [
    "**Question:** Above we mentioned that `review_to_words` method removes html formatting and allows us to tokenize the words found in a review, for example, converting *entertained* and *entertaining* into *entertain* so that they are treated as though they are the same word. What else, if anything, does this method do to the input?"
   ]
  },
  {
   "cell_type": "markdown",
   "metadata": {},
   "source": [
    "**Answer:** The method also removes any unnecessary stopwords like \"the\", \"and\", \"a\", etc."
   ]
  },
  {
   "cell_type": "markdown",
   "metadata": {},
   "source": [
    "The method below applies the `review_to_words` method to each of the reviews in the training and testing datasets. In addition it caches the results. This is because performing this processing step can take a long time. This way if you are unable to complete the notebook in the current session, you can come back without needing to process the data a second time."
   ]
  },
  {
   "cell_type": "code",
   "execution_count": 10,
   "metadata": {},
   "outputs": [],
   "source": [
    "import pickle\n",
    "\n",
    "cache_dir = os.path.join(\"../cache\", \"sentiment_analysis\")  # where to store cache files\n",
    "os.makedirs(cache_dir, exist_ok=True)  # ensure cache directory exists\n",
    "\n",
    "def preprocess_data(data_train, data_test, labels_train, labels_test,\n",
    "                    cache_dir=cache_dir, cache_file=\"preprocessed_data.pkl\"):\n",
    "    \"\"\"Convert each review to words; read from cache if available.\"\"\"\n",
    "\n",
    "    # If cache_file is not None, try to read from it first\n",
    "    cache_data = None\n",
    "    if cache_file is not None:\n",
    "        try:\n",
    "            with open(os.path.join(cache_dir, cache_file), \"rb\") as f:\n",
    "                cache_data = pickle.load(f)\n",
    "            print(\"Read preprocessed data from cache file:\", cache_file)\n",
    "        except:\n",
    "            pass  # unable to read from cache, but that's okay\n",
    "    \n",
    "    # If cache is missing, then do the heavy lifting\n",
    "    if cache_data is None:\n",
    "        # Preprocess training and test data to obtain words for each review\n",
    "        #words_train = list(map(review_to_words, data_train))\n",
    "        #words_test = list(map(review_to_words, data_test))\n",
    "        words_train = [review_to_words(review) for review in data_train]\n",
    "        words_test = [review_to_words(review) for review in data_test]\n",
    "        \n",
    "        # Write to cache file for future runs\n",
    "        if cache_file is not None:\n",
    "            cache_data = dict(words_train=words_train, words_test=words_test,\n",
    "                              labels_train=labels_train, labels_test=labels_test)\n",
    "            with open(os.path.join(cache_dir, cache_file), \"wb\") as f:\n",
    "                pickle.dump(cache_data, f)\n",
    "            print(\"Wrote preprocessed data to cache file:\", cache_file)\n",
    "    else:\n",
    "        # Unpack data loaded from cache file\n",
    "        words_train, words_test, labels_train, labels_test = (cache_data['words_train'],\n",
    "                cache_data['words_test'], cache_data['labels_train'], cache_data['labels_test'])\n",
    "    \n",
    "    return words_train, words_test, labels_train, labels_test"
   ]
  },
  {
   "cell_type": "code",
   "execution_count": 11,
   "metadata": {},
   "outputs": [
    {
     "name": "stdout",
     "output_type": "stream",
     "text": [
      "Wrote preprocessed data to cache file: preprocessed_data.pkl\n"
     ]
    }
   ],
   "source": [
    "# Preprocess data\n",
    "train_X, test_X, train_y, test_y = preprocess_data(train_X, test_X, train_y, test_y)"
   ]
  },
  {
   "cell_type": "markdown",
   "metadata": {},
   "source": [
    "## Transform the data\n",
    "\n",
    "In the XGBoost notebook we transformed the data from its word representation to a bag-of-words feature representation. For the model we are going to construct in this notebook we will construct a feature representation which is very similar. To start, we will represent each word as an integer. Of course, some of the words that appear in the reviews occur very infrequently and so likely don't contain much information for the purposes of sentiment analysis. The way we will deal with this problem is that we will fix the size of our working vocabulary and we will only include the words that appear most frequently. We will then combine all of the infrequent words into a single category and, in our case, we will label it as `1`.\n",
    "\n",
    "Since we will be using a recurrent neural network, it will be convenient if the length of each review is the same. To do this, we will fix a size for our reviews and then pad short reviews with the category 'no word' (which we will label `0`) and truncate long reviews."
   ]
  },
  {
   "cell_type": "markdown",
   "metadata": {},
   "source": [
    "### (TODO) Create a word dictionary\n",
    "\n",
    "To begin with, we need to construct a way to map words that appear in the reviews to integers. Here we fix the size of our vocabulary (including the 'no word' and 'infrequent' categories) to be `5000` but you may wish to change this to see how it affects the model.\n",
    "\n",
    "> **TODO:** Complete the implementation for the `build_dict()` method below. Note that even though the vocab_size is set to `5000`, we only want to construct a mapping for the most frequently appearing `4998` words. This is because we want to reserve the special labels `0` for 'no word' and `1` for 'infrequent word'."
   ]
  },
  {
   "cell_type": "code",
   "execution_count": 41,
   "metadata": {},
   "outputs": [],
   "source": [
    "import numpy as np\n",
    "from collections import Counter\n",
    "\n",
    "def build_dict(data, vocab_size = 5000):\n",
    "    \"\"\"Construct and return a dictionary mapping each of the most frequently appearing words to a unique integer.\"\"\"\n",
    "    \n",
    "    # TODO: Determine how often each word appears in `data`. Note that `data` is a list of sentences and that a\n",
    "    #       sentence is a list of words.\n",
    "    \n",
    "    word_count = Counter(np.concatenate(data, axis=0)) # A dict storing the words that appear in the reviews along with how often they occur\n",
    "    \n",
    "    # TODO: Sort the words found in `data` so that sorted_words[0] is the most frequently appearing word and\n",
    "    #       sorted_words[-1] is the least frequently appearing word.\n",
    "    sorted_word_count = sorted(word_count.items(), key=lambda x: x[1], reverse=True)\n",
    "    sorted_word_count = [list(tup) for tup in sorted_word_count]\n",
    "    word_count_arr = np.array(sorted_word_count)\n",
    "    \n",
    "    sorted_words = list(word_count_arr[:, 0])\n",
    "    \n",
    "    word_dict = {} # This is what we are building, a dictionary that translates words into integers\n",
    "    for idx, word in enumerate(sorted_words[:vocab_size - 2]): # The -2 is so that we save room for the 'no word'\n",
    "        word_dict[word] = idx + 2                              # 'infrequent' labels\n",
    "    \n",
    "#     print(word_count_arr[:5])\n",
    "    return word_dict"
   ]
  },
  {
   "cell_type": "code",
   "execution_count": 42,
   "metadata": {},
   "outputs": [],
   "source": [
    "word_dict = build_dict(train_X)"
   ]
  },
  {
   "cell_type": "markdown",
   "metadata": {},
   "source": [
    "**Question:** What are the five most frequently appearing (tokenized) words in the training set? Does it makes sense that these words appear frequently in the training set?"
   ]
  },
  {
   "cell_type": "markdown",
   "metadata": {},
   "source": [
    "**Answer:** The 5 most refrequently appearing words in the training set are \"movie\", \"film\", \"one\", \"like\", and \"time\". I think it makes sense that these words appear frequnetly in the training set given that this is a dataset on movie reviews."
   ]
  },
  {
   "cell_type": "code",
   "execution_count": 43,
   "metadata": {
    "scrolled": true
   },
   "outputs": [
    {
     "data": {
      "text/plain": [
       "dict_items([('movi', 2), ('film', 3), ('one', 4), ('like', 5), ('time', 6), ('good', 7), ('make', 8), ('charact', 9), ('get', 10), ('see', 11), ('watch', 12), ('stori', 13), ('even', 14), ('would', 15), ('realli', 16), ('well', 17), ('scene', 18), ('look', 19), ('show', 20), ('much', 21), ('end', 22), ('peopl', 23), ('bad', 24), ('go', 25), ('great', 26), ('also', 27), ('first', 28), ('love', 29), ('think', 30), ('way', 31), ('act', 32), ('play', 33), ('made', 34), ('thing', 35), ('could', 36), ('know', 37), ('say', 38), ('seem', 39), ('work', 40), ('plot', 41), ('two', 42), ('actor', 43), ('year', 44), ('come', 45), ('mani', 46), ('seen', 47), ('take', 48), ('want', 49), ('life', 50), ('never', 51), ('littl', 52), ('best', 53), ('tri', 54), ('man', 55), ('ever', 56), ('give', 57), ('better', 58), ('still', 59), ('perform', 60), ('find', 61), ('feel', 62), ('part', 63), ('back', 64), ('use', 65), ('someth', 66), ('director', 67), ('actual', 68), ('interest', 69), ('lot', 70), ('real', 71), ('old', 72), ('cast', 73), ('though', 74), ('live', 75), ('star', 76), ('enjoy', 77), ('guy', 78), ('anoth', 79), ('new', 80), ('role', 81), ('noth', 82), ('10', 83), ('funni', 84), ('music', 85), ('point', 86), ('start', 87), ('set', 88), ('girl', 89), ('origin', 90), ('day', 91), ('world', 92), ('everi', 93), ('believ', 94), ('turn', 95), ('quit', 96), ('direct', 97), ('us', 98), ('thought', 99), ('fact', 100), ('minut', 101), ('horror', 102), ('kill', 103), ('action', 104), ('comedi', 105), ('pretti', 106), ('young', 107), ('wonder', 108), ('happen', 109), ('around', 110), ('got', 111), ('effect', 112), ('right', 113), ('long', 114), ('howev', 115), ('big', 116), ('line', 117), ('famili', 118), ('enough', 119), ('seri', 120), ('may', 121), ('need', 122), ('fan', 123), ('bit', 124), ('script', 125), ('beauti', 126), ('person', 127), ('becom', 128), ('without', 129), ('must', 130), ('alway', 131), ('friend', 132), ('tell', 133), ('reason', 134), ('saw', 135), ('last', 136), ('final', 137), ('kid', 138), ('almost', 139), ('put', 140), ('least', 141), ('sure', 142), ('done', 143), ('whole', 144), ('place', 145), ('complet', 146), ('kind', 147), ('expect', 148), ('differ', 149), ('shot', 150), ('far', 151), ('mean', 152), ('anyth', 153), ('book', 154), ('laugh', 155), ('might', 156), ('name', 157), ('sinc', 158), ('begin', 159), ('2', 160), ('probabl', 161), ('woman', 162), ('help', 163), ('entertain', 164), ('let', 165), ('screen', 166), ('call', 167), ('tv', 168), ('moment', 169), ('away', 170), ('read', 171), ('yet', 172), ('rather', 173), ('worst', 174), ('run', 175), ('fun', 176), ('lead', 177), ('hard', 178), ('audienc', 179), ('idea', 180), ('anyon', 181), ('episod', 182), ('american', 183), ('found', 184), ('appear', 185), ('bore', 186), ('especi', 187), ('although', 188), ('hope', 189), ('cours', 190), ('keep', 191), ('anim', 192), ('job', 193), ('goe', 194), ('move', 195), ('sens', 196), ('dvd', 197), ('version', 198), ('war', 199), ('money', 200), ('someon', 201), ('mind', 202), ('mayb', 203), ('problem', 204), ('true', 205), ('hous', 206), ('everyth', 207), ('nice', 208), ('second', 209), ('rate', 210), ('three', 211), ('night', 212), ('follow', 213), ('face', 214), ('recommend', 215), ('main', 216), ('product', 217), ('worth', 218), ('leav', 219), ('human', 220), ('special', 221), ('excel', 222), ('togeth', 223), ('wast', 224), ('everyon', 225), ('sound', 226), ('john', 227), ('hand', 228), ('1', 229), ('father', 230), ('later', 231), ('eye', 232), ('said', 233), ('view', 234), ('instead', 235), ('review', 236), ('boy', 237), ('high', 238), ('hour', 239), ('miss', 240), ('classic', 241), ('talk', 242), ('wife', 243), ('understand', 244), ('left', 245), ('care', 246), ('black', 247), ('death', 248), ('open', 249), ('murder', 250), ('write', 251), ('half', 252), ('head', 253), ('rememb', 254), ('chang', 255), ('viewer', 256), ('fight', 257), ('gener', 258), ('surpris', 259), ('includ', 260), ('short', 261), ('die', 262), ('fall', 263), ('less', 264), ('els', 265), ('entir', 266), ('piec', 267), ('involv', 268), ('pictur', 269), ('simpli', 270), ('top', 271), ('home', 272), ('power', 273), ('total', 274), ('usual', 275), ('budget', 276), ('attempt', 277), ('suppos', 278), ('releas', 279), ('hollywood', 280), ('terribl', 281), ('song', 282), ('men', 283), ('possibl', 284), ('featur', 285), ('portray', 286), ('disappoint', 287), ('poor', 288), ('3', 289), ('coupl', 290), ('camera', 291), ('stupid', 292), ('dead', 293), ('wrong', 294), ('low', 295), ('produc', 296), ('either', 297), ('video', 298), ('aw', 299), ('definit', 300), ('except', 301), ('rest', 302), ('given', 303), ('absolut', 304), ('women', 305), ('lack', 306), ('word', 307), ('writer', 308), ('titl', 309), ('talent', 310), ('decid', 311), ('full', 312), ('perfect', 313), ('along', 314), ('style', 315), ('close', 316), ('truli', 317), ('school', 318), ('emot', 319), ('save', 320), ('sex', 321), ('age', 322), ('next', 323), ('bring', 324), ('mr', 325), ('case', 326), ('killer', 327), ('heart', 328), ('comment', 329), ('sort', 330), ('creat', 331), ('perhap', 332), ('came', 333), ('brother', 334), ('sever', 335), ('joke', 336), ('art', 337), ('dialogu', 338), ('game', 339), ('small', 340), ('base', 341), ('flick', 342), ('written', 343), ('sequenc', 344), ('meet', 345), ('earli', 346), ('often', 347), ('other', 348), ('mother', 349), ('develop', 350), ('humor', 351), ('actress', 352), ('consid', 353), ('dark', 354), ('guess', 355), ('amaz', 356), ('unfortun', 357), ('lost', 358), ('light', 359), ('exampl', 360), ('cinema', 361), ('drama', 362), ('white', 363), ('ye', 364), ('experi', 365), ('imagin', 366), ('mention', 367), ('stop', 368), ('natur', 369), ('forc', 370), ('manag', 371), ('felt', 372), ('present', 373), ('cut', 374), ('children', 375), ('fail', 376), ('son', 377), ('qualiti', 378), ('car', 379), ('support', 380), ('ask', 381), ('hit', 382), ('side', 383), ('voic', 384), ('extrem', 385), ('impress', 386), ('wors', 387), ('evil', 388), ('stand', 389), ('went', 390), ('certainli', 391), ('basic', 392), ('oh', 393), ('overal', 394), ('favorit', 395), ('horribl', 396), ('mysteri', 397), ('number', 398), ('type', 399), ('danc', 400), ('wait', 401), ('hero', 402), ('alreadi', 403), ('5', 404), ('learn', 405), ('matter', 406), ('4', 407), ('michael', 408), ('genr', 409), ('fine', 410), ('despit', 411), ('throughout', 412), ('walk', 413), ('success', 414), ('histori', 415), ('question', 416), ('zombi', 417), ('town', 418), ('relationship', 419), ('realiz', 420), ('child', 421), ('past', 422), ('daughter', 423), ('late', 424), ('b', 425), ('wish', 426), ('credit', 427), ('hate', 428), ('event', 429), ('theme', 430), ('touch', 431), ('citi', 432), ('today', 433), ('sometim', 434), ('behind', 435), ('god', 436), ('twist', 437), ('sit', 438), ('stay', 439), ('deal', 440), ('annoy', 441), ('abl', 442), ('rent', 443), ('pleas', 444), ('edit', 445), ('blood', 446), ('deserv', 447), ('anyway', 448), ('comic', 449), ('appar', 450), ('soon', 451), ('gave', 452), ('etc', 453), ('level', 454), ('slow', 455), ('chanc', 456), ('score', 457), ('bodi', 458), ('brilliant', 459), ('incred', 460), ('figur', 461), ('situat', 462), ('major', 463), ('self', 464), ('stuff', 465), ('decent', 466), ('element', 467), ('dream', 468), ('return', 469), ('obvious', 470), ('continu', 471), ('order', 472), ('pace', 473), ('ridicul', 474), ('happi', 475), ('add', 476), ('highli', 477), ('group', 478), ('thank', 479), ('ladi', 480), ('novel', 481), ('pain', 482), ('speak', 483), ('career', 484), ('shoot', 485), ('strang', 486), ('heard', 487), ('sad', 488), ('polic', 489), ('husband', 490), ('import', 491), ('break', 492), ('took', 493), ('strong', 494), ('cannot', 495), ('predict', 496), ('robert', 497), ('violenc', 498), ('hilari', 499), ('recent', 500), ('countri', 501), ('known', 502), ('particularli', 503), ('pick', 504), ('documentari', 505), ('season', 506), ('critic', 507), ('jame', 508), ('compar', 509), ('obviou', 510), ('alon', 511), ('told', 512), ('state', 513), ('rock', 514), ('visual', 515), ('offer', 516), ('exist', 517), ('theater', 518), ('opinion', 519), ('gore', 520), ('crap', 521), ('hold', 522), ('result', 523), ('hear', 524), ('realiti', 525), ('room', 526), ('effort', 527), ('clich', 528), ('thriller', 529), ('caus', 530), ('serious', 531), ('explain', 532), ('sequel', 533), ('king', 534), ('local', 535), ('ago', 536), ('hell', 537), ('none', 538), ('note', 539), ('allow', 540), ('david', 541), ('sister', 542), ('simpl', 543), ('femal', 544), ('deliv', 545), ('ok', 546), ('convinc', 547), ('class', 548), ('check', 549), ('suspens', 550), ('win', 551), ('oscar', 552), ('buy', 553), ('huge', 554), ('valu', 555), ('sexual', 556), ('scari', 557), ('cool', 558), ('excit', 559), ('similar', 560), ('apart', 561), ('provid', 562), ('exactli', 563), ('shown', 564), ('avoid', 565), ('seriou', 566), ('english', 567), ('taken', 568), ('whose', 569), ('cinematographi', 570), ('shock', 571), ('polit', 572), ('spoiler', 573), ('offic', 574), ('across', 575), ('middl', 576), ('pass', 577), ('street', 578), ('messag', 579), ('charm', 580), ('somewhat', 581), ('silli', 582), ('modern', 583), ('confus', 584), ('filmmak', 585), ('form', 586), ('tale', 587), ('singl', 588), ('jack', 589), ('mostli', 590), ('attent', 591), ('william', 592), ('carri', 593), ('sing', 594), ('subject', 595), ('five', 596), ('prove', 597), ('richard', 598), ('stage', 599), ('team', 600), ('unlik', 601), ('cop', 602), ('georg', 603), ('televis', 604), ('monster', 605), ('earth', 606), ('villain', 607), ('cover', 608), ('pay', 609), ('marri', 610), ('toward', 611), ('build', 612), ('pull', 613), ('parent', 614), ('due', 615), ('fill', 616), ('respect', 617), ('dialog', 618), ('four', 619), ('remind', 620), ('futur', 621), ('typic', 622), ('weak', 623), ('7', 624), ('cheap', 625), ('intellig', 626), ('atmospher', 627), ('british', 628), ('80', 629), ('clearli', 630), ('non', 631), ('dog', 632), ('paul', 633), ('8', 634), ('artist', 635), ('fast', 636), ('knew', 637), ('crime', 638), ('easili', 639), ('escap', 640), ('adult', 641), ('doubt', 642), ('detail', 643), ('date', 644), ('member', 645), ('romant', 646), ('fire', 647), ('gun', 648), ('drive', 649), ('straight', 650), ('beyond', 651), ('fit', 652), ('attack', 653), ('imag', 654), ('upon', 655), ('posit', 656), ('whether', 657), ('fantast', 658), ('peter', 659), ('captur', 660), ('aspect', 661), ('appreci', 662), ('ten', 663), ('plan', 664), ('discov', 665), ('remain', 666), ('near', 667), ('period', 668), ('air', 669), ('realist', 670), ('mark', 671), ('red', 672), ('dull', 673), ('adapt', 674), ('within', 675), ('lose', 676), ('spend', 677), ('color', 678), ('materi', 679), ('chase', 680), ('mari', 681), ('storylin', 682), ('forget', 683), ('bunch', 684), ('clear', 685), ('lee', 686), ('victim', 687), ('nearli', 688), ('box', 689), ('york', 690), ('match', 691), ('inspir', 692), ('mess', 693), ('finish', 694), ('standard', 695), ('easi', 696), ('truth', 697), ('suffer', 698), ('busi', 699), ('space', 700), ('dramat', 701), ('bill', 702), ('western', 703), ('e', 704), ('list', 705), ('battl', 706), ('notic', 707), ('de', 708), ('french', 709), ('ad', 710), ('9', 711), ('tom', 712), ('larg', 713), ('among', 714), ('eventu', 715), ('accept', 716), ('train', 717), ('agre', 718), ('soundtrack', 719), ('spirit', 720), ('third', 721), ('teenag', 722), ('adventur', 723), ('soldier', 724), ('famou', 725), ('drug', 726), ('sorri', 727), ('suggest', 728), ('normal', 729), ('cri', 730), ('babi', 731), ('ultim', 732), ('troubl', 733), ('contain', 734), ('certain', 735), ('cultur', 736), ('romanc', 737), ('rare', 738), ('lame', 739), ('somehow', 740), ('mix', 741), ('disney', 742), ('gone', 743), ('cartoon', 744), ('student', 745), ('reveal', 746), ('fear', 747), ('suck', 748), ('kept', 749), ('attract', 750), ('appeal', 751), ('premis', 752), ('secret', 753), ('greatest', 754), ('design', 755), ('shame', 756), ('throw', 757), ('copi', 758), ('scare', 759), ('wit', 760), ('admit', 761), ('america', 762), ('relat', 763), ('particular', 764), ('brought', 765), ('screenplay', 766), ('whatev', 767), ('pure', 768), ('70', 769), ('harri', 770), ('averag', 771), ('master', 772), ('describ', 773), ('male', 774), ('treat', 775), ('20', 776), ('fantasi', 777), ('issu', 778), ('warn', 779), ('inde', 780), ('background', 781), ('forward', 782), ('project', 783), ('free', 784), ('memor', 785), ('japanes', 786), ('poorli', 787), ('award', 788), ('locat', 789), ('amus', 790), ('potenti', 791), ('struggl', 792), ('weird', 793), ('magic', 794), ('societi', 795), ('okay', 796), ('accent', 797), ('imdb', 798), ('doctor', 799), ('hot', 800), ('water', 801), ('express', 802), ('alien', 803), ('30', 804), ('dr', 805), ('odd', 806), ('crazi', 807), ('choic', 808), ('studio', 809), ('fiction', 810), ('control', 811), ('becam', 812), ('masterpiec', 813), ('fli', 814), ('difficult', 815), ('joe', 816), ('scream', 817), ('costum', 818), ('lover', 819), ('refer', 820), ('uniqu', 821), ('remak', 822), ('girlfriend', 823), ('vampir', 824), ('prison', 825), ('execut', 826), ('wear', 827), ('jump', 828), ('unless', 829), ('wood', 830), ('creepi', 831), ('cheesi', 832), ('superb', 833), ('otherwis', 834), ('parti', 835), ('roll', 836), ('ghost', 837), ('public', 838), ('mad', 839), ('depict', 840), ('moral', 841), ('badli', 842), ('week', 843), ('jane', 844), ('earlier', 845), ('dumb', 846), ('fi', 847), ('grow', 848), ('flaw', 849), ('deep', 850), ('sci', 851), ('maker', 852), ('cat', 853), ('connect', 854), ('older', 855), ('footag', 856), ('bother', 857), ('plenti', 858), ('outsid', 859), ('stick', 860), ('gay', 861), ('catch', 862), ('co', 863), ('plu', 864), ('popular', 865), ('equal', 866), ('social', 867), ('disturb', 868), ('quickli', 869), ('perfectli', 870), ('dress', 871), ('era', 872), ('90', 873), ('mistak', 874), ('lie', 875), ('previou', 876), ('ride', 877), ('combin', 878), ('concept', 879), ('band', 880), ('surviv', 881), ('answer', 882), ('rich', 883), ('front', 884), ('christma', 885), ('sweet', 886), ('insid', 887), ('concern', 888), ('bare', 889), ('eat', 890), ('ben', 891), ('listen', 892), ('beat', 893), ('c', 894), ('term', 895), ('serv', 896), ('meant', 897), ('german', 898), ('la', 899), ('stereotyp', 900), ('hardli', 901), ('law', 902), ('innoc', 903), ('desper', 904), ('memori', 905), ('promis', 906), ('intent', 907), ('cute', 908), ('inform', 909), ('variou', 910), ('steal', 911), ('brain', 912), ('post', 913), ('tone', 914), ('island', 915), ('amount', 916), ('track', 917), ('nuditi', 918), ('compani', 919), ('claim', 920), ('store', 921), ('flat', 922), ('hair', 923), ('50', 924), ('univers', 925), ('land', 926), ('fairli', 927), ('danger', 928), ('kick', 929), ('scott', 930), ('player', 931), ('plain', 932), ('crew', 933), ('step', 934), ('toni', 935), ('share', 936), ('tast', 937), ('centuri', 938), ('achiev', 939), ('engag', 940), ('cold', 941), ('travel', 942), ('rip', 943), ('suit', 944), ('record', 945), ('manner', 946), ('sadli', 947), ('spot', 948), ('tension', 949), ('wrote', 950), ('intens', 951), ('fascin', 952), ('familiar', 953), ('depth', 954), ('remark', 955), ('burn', 956), ('destroy', 957), ('histor', 958), ('sleep', 959), ('purpos', 960), ('languag', 961), ('ignor', 962), ('ruin', 963), ('delight', 964), ('italian', 965), ('unbeliev', 966), ('soul', 967), ('abil', 968), ('collect', 969), ('detect', 970), ('clever', 971), ('violent', 972), ('rape', 973), ('reach', 974), ('door', 975), ('liter', 976), ('trash', 977), ('scienc', 978), ('reveng', 979), ('commun', 980), ('caught', 981), ('creatur', 982), ('approach', 983), ('trip', 984), ('fashion', 985), ('intrigu', 986), ('paint', 987), ('introduc', 988), ('skill', 989), ('channel', 990), ('complex', 991), ('camp', 992), ('christian', 993), ('extra', 994), ('hole', 995), ('limit', 996), ('immedi', 997), ('mental', 998), ('ann', 999), ('million', 1000), ('comput', 1001), ('mere', 1002), ('6', 1003), ('slightli', 1004), ('conclus', 1005), ('slasher', 1006), ('imposs', 1007), ('suddenli', 1008), ('teen', 1009), ('crimin', 1010), ('neither', 1011), ('physic', 1012), ('spent', 1013), ('nation', 1014), ('respons', 1015), ('planet', 1016), ('receiv', 1017), ('fake', 1018), ('blue', 1019), ('sick', 1020), ('bizarr', 1021), ('embarrass', 1022), ('indian', 1023), ('ring', 1024), ('15', 1025), ('pop', 1026), ('drop', 1027), ('drag', 1028), ('haunt', 1029), ('pointless', 1030), ('suspect', 1031), ('search', 1032), ('edg', 1033), ('handl', 1034), ('biggest', 1035), ('common', 1036), ('faith', 1037), ('hurt', 1038), ('arriv', 1039), ('technic', 1040), ('angel', 1041), ('genuin', 1042), ('dad', 1043), ('solid', 1044), ('awesom', 1045), ('f', 1046), ('focu', 1047), ('colleg', 1048), ('former', 1049), ('van', 1050), ('count', 1051), ('tear', 1052), ('heavi', 1053), ('rais', 1054), ('wall', 1055), ('visit', 1056), ('laughabl', 1057), ('younger', 1058), ('fair', 1059), ('excus', 1060), ('sign', 1061), ('cult', 1062), ('key', 1063), ('motion', 1064), ('tough', 1065), ('desir', 1066), ('super', 1067), ('addit', 1068), ('stun', 1069), ('exploit', 1070), ('cloth', 1071), ('tortur', 1072), ('smith', 1073), ('race', 1074), ('davi', 1075), ('author', 1076), ('cross', 1077), ('jim', 1078), ('consist', 1079), ('minor', 1080), ('compel', 1081), ('focus', 1082), ('commit', 1083), ('chemistri', 1084), ('pathet', 1085), ('park', 1086), ('tradit', 1087), ('obsess', 1088), ('frank', 1089), ('grade', 1090), ('asid', 1091), ('60', 1092), ('brutal', 1093), ('somewher', 1094), ('steve', 1095), ('depress', 1096), ('grant', 1097), ('rule', 1098), ('u', 1099), ('explor', 1100), ('opportun', 1101), ('besid', 1102), ('honest', 1103), ('anti', 1104), ('dub', 1105), ('intend', 1106), ('trailer', 1107), ('bar', 1108), ('scientist', 1109), ('west', 1110), ('longer', 1111), ('regard', 1112), ('judg', 1113), ('decad', 1114), ('silent', 1115), ('creativ', 1116), ('armi', 1117), ('wild', 1118), ('south', 1119), ('stewart', 1120), ('g', 1121), ('draw', 1122), ('road', 1123), ('govern', 1124), ('ex', 1125), ('boss', 1126), ('practic', 1127), ('motiv', 1128), ('club', 1129), ('festiv', 1130), ('surprisingli', 1131), ('gang', 1132), ('redeem', 1133), ('green', 1134), ('page', 1135), ('london', 1136), ('machin', 1137), ('idiot', 1138), ('display', 1139), ('aliv', 1140), ('militari', 1141), ('repeat', 1142), ('thrill', 1143), ('100', 1144), ('nobodi', 1145), ('folk', 1146), ('yeah', 1147), ('40', 1148), ('garbag', 1149), ('journey', 1150), ('smile', 1151), ('ground', 1152), ('tire', 1153), ('mood', 1154), ('bought', 1155), ('stone', 1156), ('sam', 1157), ('cost', 1158), ('mouth', 1159), ('noir', 1160), ('terrif', 1161), ('agent', 1162), ('utterli', 1163), ('requir', 1164), ('honestli', 1165), ('sexi', 1166), ('area', 1167), ('report', 1168), ('geniu', 1169), ('humour', 1170), ('glad', 1171), ('enter', 1172), ('investig', 1173), ('serial', 1174), ('occasion', 1175), ('passion', 1176), ('narr', 1177), ('climax', 1178), ('marriag', 1179), ('industri', 1180), ('studi', 1181), ('center', 1182), ('demon', 1183), ('nowher', 1184), ('ship', 1185), ('charli', 1186), ('loos', 1187), ('hors', 1188), ('bear', 1189), ('wow', 1190), ('hang', 1191), ('graphic', 1192), ('giant', 1193), ('admir', 1194), ('send', 1195), ('loud', 1196), ('damn', 1197), ('nake', 1198), ('profession', 1199), ('rel', 1200), ('subtl', 1201), ('blow', 1202), ('bottom', 1203), ('insult', 1204), ('batman', 1205), ('boyfriend', 1206), ('kelli', 1207), ('doubl', 1208), ('r', 1209), ('initi', 1210), ('frame', 1211), ('opera', 1212), ('gem', 1213), ('drawn', 1214), ('affect', 1215), ('cinemat', 1216), ('church', 1217), ('challeng', 1218), ('l', 1219), ('nightmar', 1220), ('seek', 1221), ('j', 1222), ('fulli', 1223), ('evid', 1224), ('essenti', 1225), ('conflict', 1226), ('arm', 1227), ('grace', 1228), ('wind', 1229), ('christoph', 1230), ('henri', 1231), ('assum', 1232), ('witch', 1233), ('narrat', 1234), ('hunt', 1235), ('push', 1236), ('wise', 1237), ('chri', 1238), ('nomin', 1239), ('repres', 1240), ('month', 1241), ('avail', 1242), ('hide', 1243), ('sceneri', 1244), ('affair', 1245), ('bond', 1246), ('thu', 1247), ('justic', 1248), ('smart', 1249), ('outstand', 1250), ('flashback', 1251), ('interview', 1252), ('presenc', 1253), ('satisfi', 1254), ('constantli', 1255), ('bed', 1256), ('central', 1257), ('content', 1258), ('iron', 1259), ('sell', 1260), ('gag', 1261), ('everybodi', 1262), ('slowli', 1263), ('hotel', 1264), ('hire', 1265), ('system', 1266), ('thrown', 1267), ('charl', 1268), ('hey', 1269), ('individu', 1270), ('adam', 1271), ('jone', 1272), ('mediocr', 1273), ('allen', 1274), ('lesson', 1275), ('ray', 1276), ('billi', 1277), ('cameo', 1278), ('photographi', 1279), ('fellow', 1280), ('pari', 1281), ('strike', 1282), ('rise', 1283), ('brief', 1284), ('absurd', 1285), ('independ', 1286), ('neg', 1287), ('phone', 1288), ('impact', 1289), ('born', 1290), ('model', 1291), ('ill', 1292), ('fresh', 1293), ('angl', 1294), ('spoil', 1295), ('likabl', 1296), ('abus', 1297), ('discuss', 1298), ('hill', 1299), ('ahead', 1300), ('sight', 1301), ('sent', 1302), ('photograph', 1303), ('logic', 1304), ('shine', 1305), ('occur', 1306), ('blame', 1307), ('bruce', 1308), ('mainli', 1309), ('skip', 1310), ('commerci', 1311), ('forev', 1312), ('teacher', 1313), ('held', 1314), ('surround', 1315), ('segment', 1316), ('zero', 1317), ('blond', 1318), ('satir', 1319), ('resembl', 1320), ('summer', 1321), ('trap', 1322), ('six', 1323), ('ball', 1324), ('fool', 1325), ('queen', 1326), ('twice', 1327), ('sub', 1328), ('tragedi', 1329), ('pack', 1330), ('reaction', 1331), ('bomb', 1332), ('protagonist', 1333), ('will', 1334), ('hospit', 1335), ('sport', 1336), ('mile', 1337), ('jerri', 1338), ('drink', 1339), ('mom', 1340), ('vote', 1341), ('trust', 1342), ('encount', 1343), ('plane', 1344), ('program', 1345), ('al', 1346), ('current', 1347), ('station', 1348), ('celebr', 1349), ('martin', 1350), ('choos', 1351), ('join', 1352), ('lord', 1353), ('favourit', 1354), ('round', 1355), ('field', 1356), ('tragic', 1357), ('vision', 1358), ('jean', 1359), ('robot', 1360), ('tie', 1361), ('arthur', 1362), ('random', 1363), ('roger', 1364), ('fortun', 1365), ('dread', 1366), ('psycholog', 1367), ('intern', 1368), ('nonsens', 1369), ('epic', 1370), ('prefer', 1371), ('improv', 1372), ('formula', 1373), ('highlight', 1374), ('pleasur', 1375), ('legend', 1376), ('tape', 1377), ('dollar', 1378), ('11', 1379), ('porn', 1380), ('gorgeou', 1381), ('wide', 1382), ('fox', 1383), ('thin', 1384), ('object', 1385), ('buddi', 1386), ('influenc', 1387), ('ugli', 1388), ('prepar', 1389), ('nasti', 1390), ('ii', 1391), ('progress', 1392), ('supposedli', 1393), ('reflect', 1394), ('warm', 1395), ('worthi', 1396), ('youth', 1397), ('unusu', 1398), ('length', 1399), ('latter', 1400), ('crash', 1401), ('seven', 1402), ('superior', 1403), ('shop', 1404), ('childhood', 1405), ('theatr', 1406), ('remot', 1407), ('paid', 1408), ('pilot', 1409), ('funniest', 1410), ('disgust', 1411), ('convers', 1412), ('fell', 1413), ('trick', 1414), ('castl', 1415), ('disast', 1416), ('rob', 1417), ('establish', 1418), ('gangster', 1419), ('suicid', 1420), ('disappear', 1421), ('heaven', 1422), ('mine', 1423), ('ident', 1424), ('decis', 1425), ('mask', 1426), ('heroin', 1427), ('tend', 1428), ('singer', 1429), ('forgotten', 1430), ('partner', 1431), ('brian', 1432), ('desert', 1433), ('recogn', 1434), ('alan', 1435), ('thoroughli', 1436), ('p', 1437), ('sky', 1438), ('ms', 1439), ('stuck', 1440), ('accur', 1441), ('replac', 1442), ('market', 1443), ('danni', 1444), ('commentari', 1445), ('clue', 1446), ('andi', 1447), ('uncl', 1448), ('seemingli', 1449), ('eddi', 1450), ('devil', 1451), ('jackson', 1452), ('pair', 1453), ('that', 1454), ('refus', 1455), ('therefor', 1456), ('fate', 1457), ('accid', 1458), ('fault', 1459), ('river', 1460), ('ed', 1461), ('unit', 1462), ('tune', 1463), ('afraid', 1464), ('stephen', 1465), ('russian', 1466), ('hidden', 1467), ('clean', 1468), ('convey', 1469), ('irrit', 1470), ('test', 1471), ('readi', 1472), ('captain', 1473), ('quick', 1474), ('instanc', 1475), ('european', 1476), ('insan', 1477), ('frustrat', 1478), ('daniel', 1479), ('rescu', 1480), ('chines', 1481), ('wed', 1482), ('1950', 1483), ('food', 1484), ('lock', 1485), ('dirti', 1486), ('angri', 1487), ('joy', 1488), ('steven', 1489), ('price', 1490), ('bland', 1491), ('cage', 1492), ('rang', 1493), ('anymor', 1494), ('wooden', 1495), ('n', 1496), ('rush', 1497), ('jason', 1498), ('news', 1499), ('board', 1500), ('led', 1501), ('martial', 1502), ('12', 1503), ('twenti', 1504), ('worri', 1505), ('symbol', 1506), ('hunter', 1507), ('cgi', 1508), ('transform', 1509), ('piti', 1510), ('sentiment', 1511), ('invent', 1512), ('x', 1513), ('johnni', 1514), ('onto', 1515), ('process', 1516), ('explan', 1517), ('attitud', 1518), ('awar', 1519), ('owner', 1520), ('aim', 1521), ('favor', 1522), ('energi', 1523), ('target', 1524), ('necessari', 1525), ('floor', 1526), ('religi', 1527), ('opposit', 1528), ('insight', 1529), ('window', 1530), ('blind', 1531), ('chick', 1532), ('movement', 1533), ('research', 1534), ('deepli', 1535), ('comparison', 1536), ('mountain', 1537), ('possess', 1538), ('comed', 1539), ('whatsoev', 1540), ('rain', 1541), ('grand', 1542), ('mid', 1543), ('shadow', 1544), ('bank', 1545), ('began', 1546), ('princ', 1547), ('parodi', 1548), ('friendship', 1549), ('credibl', 1550), ('taylor', 1551), ('pre', 1552), ('weapon', 1553), ('flesh', 1554), ('dougla', 1555), ('teach', 1556), ('bloodi', 1557), ('protect', 1558), ('terror', 1559), ('hint', 1560), ('marvel', 1561), ('accord', 1562), ('load', 1563), ('leader', 1564), ('watchabl', 1565), ('drunk', 1566), ('anybodi', 1567), ('superman', 1568), ('brown', 1569), ('freddi', 1570), ('jeff', 1571), ('appropri', 1572), ('tim', 1573), ('seat', 1574), ('hitler', 1575), ('unknown', 1576), ('charg', 1577), ('knock', 1578), ('villag', 1579), ('keaton', 1580), ('media', 1581), ('unnecessari', 1582), ('england', 1583), ('enemi', 1584), ('empti', 1585), ('perspect', 1586), ('utter', 1587), ('craft', 1588), ('wave', 1589), ('dare', 1590), ('buck', 1591), ('strength', 1592), ('kiss', 1593), ('contrast', 1594), ('nativ', 1595), ('ford', 1596), ('correct', 1597), ('distract', 1598), ('chill', 1599), ('soap', 1600), ('knowledg', 1601), ('magnific', 1602), ('nazi', 1603), ('speed', 1604), ('anywher', 1605), ('breath', 1606), ('fred', 1607), ('ice', 1608), ('1980', 1609), ('mission', 1610), ('jr', 1611), ('moon', 1612), ('crowd', 1613), ('joan', 1614), ('soft', 1615), ('000', 1616), ('frighten', 1617), ('kate', 1618), ('dan', 1619), ('hundr', 1620), ('dick', 1621), ('nick', 1622), ('somebodi', 1623), ('dozen', 1624), ('radio', 1625), ('simon', 1626), ('shakespear', 1627), ('andrew', 1628), ('academi', 1629), ('thousand', 1630), ('loss', 1631), ('root', 1632), ('account', 1633), ('quot', 1634), ('vehicl', 1635), ('sum', 1636), ('convent', 1637), ('behavior', 1638), ('leg', 1639), ('1970', 1640), ('regular', 1641), ('gold', 1642), ('pretenti', 1643), ('compet', 1644), ('demand', 1645), ('worker', 1646), ('explos', 1647), ('japan', 1648), ('stretch', 1649), ('interpret', 1650), ('candi', 1651), ('privat', 1652), ('notabl', 1653), ('lynch', 1654), ('constant', 1655), ('debut', 1656), ('tarzan', 1657), ('translat', 1658), ('revolv', 1659), ('spi', 1660), ('prais', 1661), ('sea', 1662), ('sat', 1663), ('failur', 1664), ('threaten', 1665), ('ass', 1666), ('franc', 1667), ('technolog', 1668), ('quiet', 1669), ('jesu', 1670), ('punch', 1671), ('kevin', 1672), ('met', 1673), ('higher', 1674), ('toy', 1675), ('aid', 1676), ('abandon', 1677), ('interact', 1678), ('mike', 1679), ('vh', 1680), ('bet', 1681), ('confront', 1682), ('separ', 1683), ('command', 1684), ('stunt', 1685), ('techniqu', 1686), ('gotten', 1687), ('recal', 1688), ('belong', 1689), ('site', 1690), ('servic', 1691), ('foot', 1692), ('freak', 1693), ('cabl', 1694), ('bug', 1695), ('capabl', 1696), ('bright', 1697), ('jimmi', 1698), ('african', 1699), ('fu', 1700), ('succeed', 1701), ('boat', 1702), ('stock', 1703), ('fat', 1704), ('presid', 1705), ('clark', 1706), ('spanish', 1707), ('structur', 1708), ('gene', 1709), ('paper', 1710), ('kidnap', 1711), ('whilst', 1712), ('belief', 1713), ('factor', 1714), ('bob', 1715), ('realis', 1716), ('complic', 1717), ('attend', 1718), ('witti', 1719), ('tree', 1720), ('educ', 1721), ('realism', 1722), ('finest', 1723), ('assist', 1724), ('broken', 1725), ('santa', 1726), ('determin', 1727), ('up', 1728), ('observ', 1729), ('depart', 1730), ('smoke', 1731), ('v', 1732), ('oper', 1733), ('fame', 1734), ('rubbish', 1735), ('routin', 1736), ('hat', 1737), ('domin', 1738), ('lewi', 1739), ('lone', 1740), ('advanc', 1741), ('safe', 1742), ('foreign', 1743), ('hook', 1744), ('morgan', 1745), ('kinda', 1746), ('rank', 1747), ('numer', 1748), ('shallow', 1749), ('civil', 1750), ('rose', 1751), ('washington', 1752), ('shape', 1753), ('werewolf', 1754), ('vs', 1755), ('morn', 1756), ('gari', 1757), ('kong', 1758), ('ordinari', 1759), ('winner', 1760), ('accomplish', 1761), ('whenev', 1762), ('peac', 1763), ('virtual', 1764), ('grab', 1765), ('offens', 1766), ('luck', 1767), ('h', 1768), ('unfunni', 1769), ('welcom', 1770), ('activ', 1771), ('patient', 1772), ('bigger', 1773), ('contriv', 1774), ('complain', 1775), ('dimension', 1776), ('trek', 1777), ('con', 1778), ('pretend', 1779), ('flash', 1780), ('eric', 1781), ('dri', 1782), ('wake', 1783), ('lesbian', 1784), ('code', 1785), ('cain', 1786), ('dancer', 1787), ('guard', 1788), ('corrupt', 1789), ('statu', 1790), ('manipul', 1791), ('albert', 1792), ('awkward', 1793), ('gain', 1794), ('context', 1795), ('speech', 1796), ('sourc', 1797), ('signific', 1798), ('psycho', 1799), ('13', 1800), ('clip', 1801), ('sean', 1802), ('anthoni', 1803), ('corni', 1804), ('curiou', 1805), ('theatric', 1806), ('priest', 1807), ('w', 1808), ('advic', 1809), ('religion', 1810), ('reli', 1811), ('addict', 1812), ('flow', 1813), ('specif', 1814), ('jennif', 1815), ('howard', 1816), ('secur', 1817), ('asian', 1818), ('skin', 1819), ('core', 1820), ('organ', 1821), ('golden', 1822), ('comfort', 1823), ('luke', 1824), ('promot', 1825), ('cheat', 1826), ('cash', 1827), ('lucki', 1828), ('lower', 1829), ('dislik', 1830), ('associ', 1831), ('spell', 1832), ('devic', 1833), ('contribut', 1834), ('balanc', 1835), ('wing', 1836), ('regret', 1837), ('degre', 1838), ('frequent', 1839), ('frankli', 1840), ('print', 1841), ('sake', 1842), ('forgiv', 1843), ('lake', 1844), ('mass', 1845), ('betti', 1846), ('thoma', 1847), ('unexpect', 1848), ('gordon', 1849), ('crack', 1850), ('construct', 1851), ('depend', 1852), ('categori', 1853), ('unfold', 1854), ('grown', 1855), ('invit', 1856), ('amateur', 1857), ('condit', 1858), ('walter', 1859), ('matur', 1860), ('intellectu', 1861), ('grew', 1862), ('anna', 1863), ('honor', 1864), ('sudden', 1865), ('veteran', 1866), ('mirror', 1867), ('spectacular', 1868), ('sole', 1869), ('experienc', 1870), ('robin', 1871), ('meanwhil', 1872), ('demonstr', 1873), ('overli', 1874), ('grip', 1875), ('liner', 1876), ('card', 1877), ('freedom', 1878), ('gift', 1879), ('theori', 1880), ('sheriff', 1881), ('colour', 1882), ('drew', 1883), ('unabl', 1884), ('section', 1885), ('oliv', 1886), ('brilliantli', 1887), ('crappi', 1888), ('circumst', 1889), ('subtitl', 1890), ('matt', 1891), ('parker', 1892), ('path', 1893), ('altern', 1894), ('pile', 1895), ('cook', 1896), ('sheer', 1897), ('laughter', 1898), ('wander', 1899), ('defin', 1900), ('accident', 1901), ('relief', 1902), ('hall', 1903), ('lawyer', 1904), ('treatment', 1905), ('sinatra', 1906), ('hank', 1907), ('dragon', 1908), ('captiv', 1909), ('gratuit', 1910), ('moor', 1911), ('halloween', 1912), ('wayn', 1913), ('barbara', 1914), ('wound', 1915), ('jacki', 1916), ('cowboy', 1917), ('unintent', 1918), ('k', 1919), ('broadway', 1920), ('kung', 1921), ('spoof', 1922), ('surreal', 1923), ('winter', 1924), ('statement', 1925), ('canadian', 1926), ('fish', 1927), ('fare', 1928), ('cheer', 1929), ('treasur', 1930), ('gonna', 1931), ('compos', 1932), ('victor', 1933), ('sensit', 1934), ('unrealist', 1935), ('emerg', 1936), ('woodi', 1937), ('driven', 1938), ('neighbor', 1939), ('ran', 1940), ('sympathet', 1941), ('authent', 1942), ('overlook', 1943), ('expos', 1944), ('topic', 1945), ('glass', 1946), ('menac', 1947), ('gross', 1948), ('handsom', 1949), ('ancient', 1950), ('michel', 1951), ('chief', 1952), ('network', 1953), ('pleasant', 1954), ('contemporari', 1955), ('stranger', 1956), ('built', 1957), ('feet', 1958), ('cinderella', 1959), ('comedian', 1960), ('nevertheless', 1961), ('russel', 1962), ('blockbust', 1963), ('endless', 1964), ('underr', 1965), ('letter', 1966), ('consider', 1967), ('miser', 1968), ('earn', 1969), ('gori', 1970), ('solv', 1971), ('switch', 1972), ('brook', 1973), ('convict', 1974), ('edward', 1975), ('bullet', 1976), ('joseph', 1977), ('virgin', 1978), ('victoria', 1979), ('0', 1980), ('chosen', 1981), ('scenario', 1982), ('cynic', 1983), ('alex', 1984), ('scale', 1985), ('gut', 1986), ('sword', 1987), ('outrag', 1988), ('curs', 1989), ('com', 1990), ('substanc', 1991), ('juli', 1992), ('wrap', 1993), ('monkey', 1994), ('proper', 1995), ('driver', 1996), ('uk', 1997), ('screenwrit', 1998), ('court', 1999), ('bird', 2000), ('indic', 2001), ('par', 2002), ('remov', 2003), ('advertis', 2004), ('inevit', 2005), ('consequ', 2006), ('nanci', 2007), ('rental', 2008), ('roy', 2009), ('naiv', 2010), ('grave', 2011), ('loser', 2012), ('invis', 2013), ('bridg', 2014), ('brave', 2015), ('slap', 2016), ('fatal', 2017), ('germani', 2018), ('le', 2019), ('footbal', 2020), ('provok', 2021), ('loui', 2022), ('anger', 2023), ('ador', 2024), ('chan', 2025), ('alcohol', 2026), ('anderson', 2027), ('stumbl', 2028), ('ryan', 2029), ('professor', 2030), ('willi', 2031), ('assassin', 2032), ('patrick', 2033), ('bat', 2034), ('sharp', 2035), ('australian', 2036), ('1930', 2037), ('deni', 2038), ('heck', 2039), ('liber', 2040), ('eight', 2041), ('strongli', 2042), ('trilog', 2043), ('refresh', 2044), ('amateurish', 2045), ('saturday', 2046), ('cell', 2047), ('ape', 2048), ('lousi', 2049), ('sin', 2050), ('vagu', 2051), ('resid', 2052), ('san', 2053), ('justifi', 2054), ('sympathi', 2055), ('creator', 2056), ('mini', 2057), ('indi', 2058), ('terrifi', 2059), ('defeat', 2060), ('reput', 2061), ('prevent', 2062), ('endur', 2063), ('tabl', 2064), ('tediou', 2065), ('expert', 2066), ('task', 2067), ('imit', 2068), ('trial', 2069), ('employ', 2070), ('offend', 2071), ('basebal', 2072), ('rival', 2073), ('che', 2074), ('weekend', 2075), ('fairi', 2076), ('pitch', 2077), ('beach', 2078), ('complaint', 2079), ('europ', 2080), ('dig', 2081), ('max', 2082), ('risk', 2083), ('format', 2084), ('purchas', 2085), ('murphi', 2086), ('nois', 2087), ('reminisc', 2088), ('powel', 2089), ('hype', 2090), ('bite', 2091), ('harsh', 2092), ('glimps', 2093), ('tini', 2094), ('titan', 2095), ('14', 2096), ('till', 2097), ('prime', 2098), ('asleep', 2099), ('fals', 2100), ('north', 2101), ('strip', 2102), ('texa', 2103), ('revel', 2104), ('descript', 2105), ('destruct', 2106), ('africa', 2107), ('semi', 2108), ('sitcom', 2109), ('inner', 2110), ('spin', 2111), ('surfac', 2112), ('excess', 2113), ('arrest', 2114), ('uninterest', 2115), ('maintain', 2116), ('massiv', 2117), ('makeup', 2118), ('controversi', 2119), ('hitchcock', 2120), ('argu', 2121), ('dinosaur', 2122), ('twin', 2123), ('kim', 2124), ('reject', 2125), ('ludicr', 2126), ('stare', 2127), ('insist', 2128), ('expens', 2129), ('ideal', 2130), ('melodrama', 2131), ('subplot', 2132), ('atroci', 2133), ('nail', 2134), ('supernatur', 2135), ('ala', 2136), ('press', 2137), ('host', 2138), ('ga', 2139), ('forest', 2140), ('erot', 2141), ('columbo', 2142), ('notch', 2143), ('cant', 2144), ('dude', 2145), ('identifi', 2146), ('presum', 2147), ('character', 2148), ('crude', 2149), ('forgett', 2150), ('method', 2151), ('guest', 2152), ('closer', 2153), ('plagu', 2154), ('ear', 2155), ('landscap', 2156), ('border', 2157), ('beast', 2158), ('lion', 2159), ('princess', 2160), ('foster', 2161), ('bound', 2162), ('damag', 2163), ('storytel', 2164), ('pacino', 2165), ('aunt', 2166), ('urban', 2167), ('jungl', 2168), ('previous', 2169), ('accus', 2170), ('birth', 2171), ('chose', 2172), ('nude', 2173), ('emma', 2174), ('thirti', 2175), ('guid', 2176), ('doll', 2177), ('jess', 2178), ('propaganda', 2179), ('25', 2180), ('mate', 2181), ('whoever', 2182), ('warrior', 2183), ('mainstream', 2184), ('pet', 2185), ('latest', 2186), ('merit', 2187), ('size', 2188), ('upset', 2189), ('cooper', 2190), ('deadli', 2191), ('exact', 2192), ('poster', 2193), ('friday', 2194), ('gritti', 2195), ('buff', 2196), ('blend', 2197), ('ton', 2198), ('contact', 2199), ('wilson', 2200), ('settl', 2201), ('citizen', 2202), ('1990', 2203), ('popul', 2204), ('rough', 2205), ('contest', 2206), ('sun', 2207), ('warner', 2208), ('corps', 2209), ('select', 2210), ('metal', 2211), ('pitt', 2212), ('overcom', 2213), ('widow', 2214), ('environ', 2215), ('mgm', 2216), ('alic', 2217), ('bu', 2218), ('rat', 2219), ('guilti', 2220), ('ted', 2221), ('link', 2222), ('particip', 2223), ('lift', 2224), ('revolut', 2225), ('moron', 2226), ('corner', 2227), ('exagger', 2228), ('corpor', 2229), ('prostitut', 2230), ('matrix', 2231), ('1960', 2232), ('afternoon', 2233), ('johnson', 2234), ('accompani', 2235), ('doom', 2236), ('clair', 2237), ('holm', 2238), ('instal', 2239), ('hood', 2240), ('sincer', 2241), ('multipl', 2242), ('leagu', 2243), ('friendli', 2244), ('examin', 2245), ('campi', 2246), ('lugosi', 2247), ('junk', 2248), ('string', 2249), ('irish', 2250), ('blah', 2251), ('advis', 2252), ('defend', 2253), ('aka', 2254), ('grim', 2255), ('sunday', 2256), ('hip', 2257), ('shake', 2258), ('confid', 2259), ('shut', 2260), ('icon', 2261), ('varieti', 2262), ('tight', 2263), ('rachel', 2264), ('pro', 2265), ('goal', 2266), ('mexican', 2267), ('attach', 2268), ('directli', 2269), ('jaw', 2270), ('denni', 2271), ('medic', 2272), ('sullivan', 2273), ('breast', 2274), ('prior', 2275), ('truck', 2276), ('duke', 2277), ('legendari', 2278), ('terrorist', 2279), ('dean', 2280), ('sentenc', 2281), ('bourn', 2282), ('sarah', 2283), ('courag', 2284), ('vietnam', 2285), ('split', 2286), ('donald', 2287), ('proceed', 2288), ('hong', 2289), ('behav', 2290), ('nose', 2291), ('entri', 2292), ('yell', 2293), ('un', 2294), ('forth', 2295), ('lifetim', 2296), ('confess', 2297), ('concentr', 2298), ('stolen', 2299), ('buri', 2300), ('borrow', 2301), ('gather', 2302), ('crush', 2303), ('everywher', 2304), ('jerk', 2305), ('unconvinc', 2306), ('swim', 2307), ('california', 2308), ('lip', 2309), ('turkey', 2310), ('pan', 2311), ('julia', 2312), ('deliveri', 2313), ('spite', 2314), ('downright', 2315), ('offici', 2316), ('quest', 2317), ('reward', 2318), ('china', 2319), ('proud', 2320), ('freeman', 2321), ('hoffman', 2322), ('flight', 2323), ('fabul', 2324), ('betray', 2325), ('jon', 2326), ('sink', 2327), ('fade', 2328), ('sir', 2329), ('worthwhil', 2330), ('encourag', 2331), ('inept', 2332), ('notori', 2333), ('lazi', 2334), ('jail', 2335), ('relev', 2336), ('imageri', 2337), ('shower', 2338), ('bag', 2339), ('cousin', 2340), ('branagh', 2341), ('lisa', 2342), ('survivor', 2343), ('retard', 2344), ('storm', 2345), ('teeth', 2346), ('susan', 2347), ('bell', 2348), ('hugh', 2349), ('trade', 2350), ('finger', 2351), ('tremend', 2352), ('toler', 2353), ('alright', 2354), ('mexico', 2355), ('stab', 2356), ('summari', 2357), ('bride', 2358), ('facial', 2359), ('quirki', 2360), ('shark', 2361), ('blown', 2362), ('von', 2363), ('ha', 2364), ('bitter', 2365), ('hyster', 2366), ('pose', 2367), ('ron', 2368), ('cruel', 2369), ('scheme', 2370), ('christ', 2371), ('address', 2372), ('afterward', 2373), ('bone', 2374), ('larri', 2375), ('ned', 2376), ('pursu', 2377), ('swear', 2378), ('snake', 2379), ('traci', 2380), ('screw', 2381), ('thumb', 2382), ('tour', 2383), ('distinct', 2384), ('beg', 2385), ('feed', 2386), ('occas', 2387), ('stomach', 2388), ('chair', 2389), ('obscur', 2390), ('mechan', 2391), ('photo', 2392), ('raw', 2393), ('holiday', 2394), ('render', 2395), ('gruesom', 2396), ('sidney', 2397), ('resist', 2398), ('chain', 2399), ('cabin', 2400), ('argument', 2401), ('necessarili', 2402), ('southern', 2403), ('hardi', 2404), ('heavili', 2405), ('india', 2406), ('satan', 2407), ('racist', 2408), ('philip', 2409), ('understood', 2410), ('indulg', 2411), ('belov', 2412), ('pregnant', 2413), ('integr', 2414), ('lay', 2415), ('outfit', 2416), ('obnoxi', 2417), ('midnight', 2418), ('tongu', 2419), ('fourth', 2420), ('stalk', 2421), ('forgot', 2422), ('garden', 2423), ('ticket', 2424), ('restor', 2425), ('magazin', 2426), ('carol', 2427), ('17', 2428), ('slapstick', 2429), ('inhabit', 2430), ('deeper', 2431), ('incid', 2432), ('devot', 2433), ('shoe', 2434), ('brad', 2435), ('lincoln', 2436), ('disbelief', 2437), ('divorc', 2438), ('underground', 2439), ('guarante', 2440), ('elizabeth', 2441), ('benefit', 2442), ('anticip', 2443), ('maria', 2444), ('lili', 2445), ('sandler', 2446), ('creation', 2447), ('princip', 2448), ('explod', 2449), ('mildli', 2450), ('cring', 2451), ('greater', 2452), ('bbc', 2453), ('amazingli', 2454), ('capit', 2455), ('slave', 2456), ('halfway', 2457), ('funnier', 2458), ('introduct', 2459), ('extraordinari', 2460), ('lesli', 2461), ('overwhelm', 2462), ('extent', 2463), ('transfer', 2464), ('tap', 2465), ('advantag', 2466), ('punish', 2467), ('wreck', 2468), ('text', 2469), ('enhanc', 2470), ('horrif', 2471), ('lo', 2472), ('dynam', 2473), ('jessica', 2474), ('east', 2475), ('plant', 2476), ('error', 2477), ('deliber', 2478), ('preview', 2479), ('lane', 2480), ('appli', 2481), ('ensu', 2482), ('sophist', 2483), ('basi', 2484), ('vincent', 2485), ('vacat', 2486), ('2000', 2487), ('homosexu', 2488), ('miscast', 2489), ('miller', 2490), ('measur', 2491), ('mansion', 2492), ('via', 2493), ('spoken', 2494), ('sleazi', 2495), ('elev', 2496), ('extend', 2497), ('reed', 2498), ('bollywood', 2499), ('steel', 2500), ('uncomfort', 2501), ('goofi', 2502), ('alter', 2503), ('conceiv', 2504), ('daili', 2505), ('melt', 2506), ('fix', 2507), ('assign', 2508), ('cathol', 2509), ('stanley', 2510), ('breathtak', 2511), ('savag', 2512), ('beer', 2513), ('blair', 2514), ('overact', 2515), ('hippi', 2516), ('mous', 2517), ('dentist', 2518), ('properli', 2519), ('subsequ', 2520), ('nowaday', 2521), ('inspector', 2522), ('burt', 2523), ('succe', 2524), ('everyday', 2525), ('carpent', 2526), ('sacrific', 2527), ('oppos', 2528), ('block', 2529), ('laura', 2530), ('neck', 2531), ('massacr', 2532), ('circl', 2533), ('seagal', 2534), ('grey', 2535), ('access', 2536), ('concert', 2537), ('mob', 2538), ('christi', 2539), ('portrait', 2540), ('fallen', 2541), ('lesser', 2542), ('fay', 2543), ('pool', 2544), ('chees', 2545), ('usa', 2546), ('isol', 2547), ('competit', 2548), ('jewish', 2549), ('react', 2550), ('sinist', 2551), ('relax', 2552), ('jake', 2553), ('spiritu', 2554), ('nine', 2555), ('2006', 2556), ('nonetheless', 2557), ('ironi', 2558), ('suitabl', 2559), ('stink', 2560), ('immens', 2561), ('appal', 2562), ('creep', 2563), ('lyric', 2564), ('chop', 2565), ('reduc', 2566), ('showcas', 2567), ('retir', 2568), ('rage', 2569), ('franchis', 2570), ('spring', 2571), ('navi', 2572), ('nut', 2573), ('user', 2574), ('sold', 2575), ('needless', 2576), ('adopt', 2577), ('luci', 2578), ('shirt', 2579), ('asham', 2580), ('bath', 2581), ('jay', 2582), ('per', 2583), ('uninspir', 2584), ('zone', 2585), ('bulli', 2586), ('nurs', 2587), ('digit', 2588), ('stanwyck', 2589), ('sutherland', 2590), ('2001', 2591), ('laid', 2592), ('illustr', 2593), ('broadcast', 2594), ('oddli', 2595), ('amongst', 2596), ('upper', 2597), ('1940', 2598), ('fulfil', 2599), ('stylish', 2600), ('baker', 2601), ('disguis', 2602), ('aspir', 2603), ('throat', 2604), ('brando', 2605), ('pound', 2606), ('impli', 2607), ('wwii', 2608), ('endear', 2609), ('pride', 2610), ('neighborhood', 2611), ('thief', 2612), ('em', 2613), ('wanna', 2614), ('18', 2615), ('nobl', 2616), ('distribut', 2617), ('diseas', 2618), ('shift', 2619), ('16', 2620), ('prop', 2621), ('shoulder', 2622), ('albeit', 2623), ('tens', 2624), ('coher', 2625), ('bo', 2626), ('rochest', 2627), ('dinner', 2628), ('cinematograph', 2629), ('dawn', 2630), ('bett', 2631), ('silenc', 2632), ('poignant', 2633), ('rebel', 2634), ('snow', 2635), ('knife', 2636), ('wash', 2637), ('shout', 2638), ('surf', 2639), ('forti', 2640), ('function', 2641), ('contract', 2642), ('matthau', 2643), ('chuck', 2644), ('proof', 2645), ('silver', 2646), ('cancel', 2647), ('derek', 2648), ('height', 2649), ('instinct', 2650), ('eeri', 2651), ('duti', 2652), ('heat', 2653), ('horrend', 2654), ('cannib', 2655), ('reunion', 2656), ('henc', 2657), ('mindless', 2658), ('internet', 2659), ('widmark', 2660), ('elvira', 2661), ('incoher', 2662), ('pie', 2663), ('absorb', 2664), ('musician', 2665), ('mill', 2666), ('neat', 2667), ('glori', 2668), ('greatli', 2669), ('premier', 2670), ('repetit', 2671), ('alik', 2672), ('etern', 2673), ('torn', 2674), ('spielberg', 2675), ('innov', 2676), ('elvi', 2677), ('itali', 2678), ('announc', 2679), ('blank', 2680), ('redempt', 2681), ('britain', 2682), ('wealthi', 2683), ('bang', 2684), ('diamond', 2685), ('infam', 2686), ('fbi', 2687), ('racism', 2688), ('trite', 2689), ('precis', 2690), ('burton', 2691), ('nelson', 2692), ('crisi', 2693), ('homag', 2694), ('lovabl', 2695), ('horrifi', 2696), ('resolut', 2697), ('flop', 2698), ('ensembl', 2699), ('parallel', 2700), ('hammer', 2701), ('helen', 2702), ('pat', 2703), ('dedic', 2704), ('chaplin', 2705), ('wilder', 2706), ('streisand', 2707), ('happili', 2708), ('triumph', 2709), ('cube', 2710), ('disagre', 2711), ('st', 2712), ('plastic', 2713), ('mar', 2714), ('carter', 2715), ('conclud', 2716), ('factori', 2717), ('oil', 2718), ('broke', 2719), ('weight', 2720), ('own', 2721), ('fighter', 2722), ('march', 2723), ('vega', 2724), ('chuckl', 2725), ('rocket', 2726), ('bush', 2727), ('climb', 2728), ('row', 2729), ('wherea', 2730), ('mst3k', 2731), ('unforgett', 2732), ('luca', 2733), ('boot', 2734), ('lust', 2735), ('sensibl', 2736), ('dump', 2737), ('meaning', 2738), ('kurt', 2739), ('spare', 2740), ('enorm', 2741), ('dane', 2742), ('thug', 2743), ('stress', 2744), ('butt', 2745), ('karloff', 2746), ('difficulti', 2747), ('fifti', 2748), ('brand', 2749), ('adequ', 2750), ('engin', 2751), ('caricatur', 2752), ('dear', 2753), ('arnold', 2754), ('rap', 2755), ('threat', 2756), ('bobbi', 2757), ('swing', 2758), ('barri', 2759), ('ralph', 2760), ('arrog', 2761), ('ego', 2762), ('secretari', 2763), ('hamlet', 2764), ('elabor', 2765), ('journalist', 2766), ('homeless', 2767), ('fest', 2768), ('polish', 2769), ('flynn', 2770), ('puppet', 2771), ('unbear', 2772), ('resort', 2773), ('simpson', 2774), ('spike', 2775), ('fanci', 2776), ('grate', 2777), ('induc', 2778), ('float', 2779), ('conspiraci', 2780), ('arrang', 2781), ('tool', 2782), ('guilt', 2783), ('pig', 2784), ('basement', 2785), ('phillip', 2786), ('exercis', 2787), ('tribut', 2788), ('cruis', 2789), ('choreograph', 2790), ('muppet', 2791), ('boll', 2792), ('layer', 2793), ('fianc', 2794), ('ham', 2795), ('tower', 2796), ('editor', 2797), ('file', 2798), ('document', 2799), ('medium', 2800), ('toilet', 2801), ('item', 2802), ('slip', 2803), ('ward', 2804), ('stan', 2805), ('puzzl', 2806), ('korean', 2807), ('24', 2808), ('scarecrow', 2809), ('babe', 2810), ('philosoph', 2811), ('inexplic', 2812), ('persona', 2813), ('doc', 2814), ('librari', 2815), ('slaughter', 2816), ('portion', 2817), ('superfici', 2818), ('assur', 2819), ('denzel', 2820), ('territori', 2821), ('larger', 2822), ('spark', 2823), ('transit', 2824), ('glover', 2825), ('orient', 2826), ('catherin', 2827), ('minim', 2828), ('walken', 2829), ('jeremi', 2830), ('pg', 2831), ('owe', 2832), ('ban', 2833), ('sneak', 2834), ('wolf', 2835), ('financi', 2836), ('boredom', 2837), ('shi', 2838), ('dorothi', 2839), ('curti', 2840), ('jet', 2841), ('ambigu', 2842), ('metaphor', 2843), ('multi', 2844), ('profound', 2845), ('cusack', 2846), ('backdrop', 2847), ('eleph', 2848), ('whale', 2849), ('hudson', 2850), ('implaus', 2851), ('notion', 2852), ('elsewher', 2853), ('birthday', 2854), ('viru', 2855), ('ultra', 2856), ('hack', 2857), ('2005', 2858), ('union', 2859), ('stiff', 2860), ('rave', 2861), ('gadget', 2862), ('bibl', 2863), ('lloyd', 2864), ('distanc', 2865), ('eastwood', 2866), ('disc', 2867), ('deriv', 2868), ('reader', 2869), ('slight', 2870), ('squar', 2871), ('pad', 2872), ('superhero', 2873), ('urg', 2874), ('hawk', 2875), ('newspap', 2876), ('canada', 2877), ('afford', 2878), ('eva', 2879), ('1st', 2880), ('poison', 2881), ('montag', 2882), ('charisma', 2883), ('huh', 2884), ('sadist', 2885), ('heston', 2886), ('button', 2887), ('drown', 2888), ('cure', 2889), ('health', 2890), ('spread', 2891), ('skit', 2892), ('essenc', 2893), ('restaur', 2894), ('gradual', 2895), ('lab', 2896), ('companion', 2897), ('peak', 2898), ('invest', 2899), ('scoobi', 2900), ('godfath', 2901), ('muslim', 2902), ('maniac', 2903), ('dealt', 2904), ('fetch', 2905), ('estat', 2906), ('countless', 2907), ('miik', 2908), ('servant', 2909), ('subtleti', 2910), ('gothic', 2911), ('kane', 2912), ('alli', 2913), ('tea', 2914), ('cup', 2915), ('ritter', 2916), ('charismat', 2917), ('electr', 2918), ('heroic', 2919), ('briefli', 2920), ('elect', 2921), ('salli', 2922), ('iii', 2923), ('ingredi', 2924), ('admittedli', 2925), ('cole', 2926), ('toss', 2927), ('bud', 2928), ('reel', 2929), ('nuanc', 2930), ('wannab', 2931), ('tender', 2932), ('resourc', 2933), ('neil', 2934), ('grandmoth', 2935), ('mafia', 2936), ('punk', 2937), ('stronger', 2938), ('pit', 2939), ('mild', 2940), ('gate', 2941), ('dawson', 2942), ('pauli', 2943), ('stood', 2944), ('kubrick', 2945), ('shall', 2946), ('reev', 2947), ('label', 2948), ('poverti', 2949), ('carrey', 2950), ('outcom', 2951), ('burst', 2952), ('smooth', 2953), ('assault', 2954), ('terri', 2955), ('updat', 2956), ('tag', 2957), ('astair', 2958), ('useless', 2959), ('fond', 2960), ('cardboard', 2961), ('easier', 2962), ('cox', 2963), ('smash', 2964), ('bakshi', 2965), ('ian', 2966), ('samurai', 2967), ('resolv', 2968), ('fist', 2969), ('vulner', 2970), ('2002', 2971), ('qualifi', 2972), ('exchang', 2973), ('divers', 2974), ('coincid', 2975), ('vari', 2976), ('melodramat', 2977), ('rex', 2978), ('sketch', 2979), ('increasingli', 2980), ('templ', 2981), ('blast', 2982), ('luckili', 2983), ('conveni', 2984), ('suspend', 2985), ('brillianc', 2986), ('reynold', 2987), ('scratch', 2988), ('be', 2989), ('tame', 2990), ('insert', 2991), ('walker', 2992), ('strictli', 2993), ('coach', 2994), ('farm', 2995), ('hamilton', 2996), ('fisher', 2997), ('gotta', 2998), ('pin', 2999), ('ambiti', 3000), ('soprano', 3001), ('matthew', 3002), ('seventi', 3003), ('jami', 3004), ('meat', 3005), ('nuclear', 3006), ('brosnan', 3007), ('grasp', 3008), ('timeless', 3009), ('revers', 3010), ('empir', 3011), ('eccentr', 3012), ('spooki', 3013), ('discoveri', 3014), ('butcher', 3015), ('worthless', 3016), ('instantli', 3017), ('ninja', 3018), ('joey', 3019), ('cave', 3020), ('monk', 3021), ('recreat', 3022), ('closet', 3023), ('convolut', 3024), ('clock', 3025), ('struck', 3026), ('kudo', 3027), ('sloppi', 3028), ('evok', 3029), ('clown', 3030), ('declar', 3031), ('inconsist', 3032), ('gray', 3033), ('fifteen', 3034), ('sidekick', 3035), ('partli', 3036), ('bleak', 3037), ('miracl', 3038), ('wipe', 3039), ('eighti', 3040), ('pal', 3041), ('norman', 3042), ('selfish', 3043), ('importantli', 3044), ('cliff', 3045), ('mitchel', 3046), ('communist', 3047), ('seller', 3048), ('farc', 3049), ('piano', 3050), ('flawless', 3051), ('45', 3052), ('cheek', 3053), ('enthusiast', 3054), ('destin', 3055), ('ho', 3056), ('psychiatrist', 3057), ('debat', 3058), ('websit', 3059), ('lifestyl', 3060), ('superbl', 3061), ('australia', 3062), ('seed', 3063), ('aforement', 3064), ('chew', 3065), ('stoog', 3066), ('akshay', 3067), ('dash', 3068), ('regardless', 3069), ('kitchen', 3070), ('bash', 3071), ('wick', 3072), ('incompet', 3073), ('dire', 3074), ('drivel', 3075), ('directori', 3076), ('soviet', 3077), ('splatter', 3078), ('emili', 3079), ('abc', 3080), ('slice', 3081), ('anni', 3082), ('wrestl', 3083), ('pressur', 3084), ('artifici', 3085), ('dave', 3086), ('increas', 3087), ('chapter', 3088), ('cameron', 3089), ('curios', 3090), ('seduc', 3091), ('beaten', 3092), ('doo', 3093), ('duo', 3094), ('helicopt', 3095), ('boil', 3096), ('cia', 3097), ('recov', 3098), ('jar', 3099), ('suppli', 3100), ('flower', 3101), ('judi', 3102), ('ken', 3103), ('cagney', 3104), ('pleasantli', 3105), ('glow', 3106), ('prize', 3107), ('distant', 3108), ('blob', 3109), ('mann', 3110), ('lou', 3111), ('ranger', 3112), ('craig', 3113), ('eleg', 3114), ('splendid', 3115), ('favour', 3116), ('drunken', 3117), ('turner', 3118), ('combat', 3119), ('web', 3120), ('glenn', 3121), ('perri', 3122), ('ellen', 3123), ('panic', 3124), ('goldberg', 3125), ('laurel', 3126), ('psychot', 3127), ('francisco', 3128), ('craven', 3129), ('hop', 3130), ('wizard', 3131), ('graduat', 3132), ('gandhi', 3133), ('plausibl', 3134), ('fx', 3135), ('flip', 3136), ('slightest', 3137), ('gentl', 3138), ('falk', 3139), ('rid', 3140), ('shortli', 3141), ('greek', 3142), ('philosophi', 3143), ('alexand', 3144), ('min', 3145), ('20th', 3146), ('ruth', 3147), ('hatr', 3148), ('modesti', 3149), ('fund', 3150), ('unpleas', 3151), ('knight', 3152), ('lend', 3153), ('felix', 3154), ('manhattan', 3155), ('holi', 3156), ('jealou', 3157), ('preciou', 3158), ('legal', 3159), ('futurist', 3160), ('tall', 3161), ('harm', 3162), ('ocean', 3163), ('we', 3164), ('dracula', 3165), ('childish', 3166), ('scientif', 3167), ('tank', 3168), ('explicit', 3169), ('ami', 3170), ('bless', 3171), ('thread', 3172), ('digniti', 3173), ('forbidden', 3174), ('mock', 3175), ('reviv', 3176), ('overdon', 3177), ('nod', 3178), ('giallo', 3179), ('99', 3180), ('unwatch', 3181), ('2004', 3182), ('margaret', 3183), ('fever', 3184), ('awaken', 3185), ('yesterday', 3186), ('nerv', 3187), ('mel', 3188), ('torment', 3189), ('pirat', 3190), ('broad', 3191), ('eve', 3192), ('awe', 3193), ('thick', 3194), ('elderli', 3195), ('repeatedli', 3196), ('verhoeven', 3197), ('absenc', 3198), ('stiller', 3199), ('eas', 3200), ('royal', 3201), ('acclaim', 3202), ('uniform', 3203), ('custom', 3204), ('ah', 3205), ('ambit', 3206), ('kay', 3207), ('politician', 3208), ('rivet', 3209), ('automat', 3210), ('lean', 3211), ('bin', 3212), ('launch', 3213), ('romero', 3214), ('roman', 3215), ('publish', 3216), ('timothi', 3217), ('griffith', 3218), ('stinker', 3219), ('transport', 3220), ('phrase', 3221), ('darker', 3222), ('bathroom', 3223), ('pulp', 3224), ('pierc', 3225), ('gabriel', 3226), ('antic', 3227), ('homicid', 3228), ('crook', 3229), ('warren', 3230), ('sunshin', 3231), ('wallac', 3232), ('tomato', 3233), ('termin', 3234), ('foul', 3235), ('purpl', 3236), ('revolutionari', 3237), ('karen', 3238), ('horrid', 3239), ('rambo', 3240), ('packag', 3241), ('awak', 3242), ('saint', 3243), ('donna', 3244), ('brazil', 3245), ('q', 3246), ('juvenil', 3247), ('viciou', 3248), ('album', 3249), ('2003', 3250), ('pray', 3251), ('kenneth', 3252), ('choreographi', 3253), ('contrari', 3254), ('sixti', 3255), ('hollow', 3256), ('coloni', 3257), ('eyr', 3258), ('prom', 3259), ('evolv', 3260), ('li', 3261), ('marin', 3262), ('ought', 3263), ('stole', 3264), ('overr', 3265), ('ireland', 3266), ('nerd', 3267), ('ramon', 3268), ('conserv', 3269), ('defi', 3270), ('option', 3271), ('boast', 3272), ('blade', 3273), ('beatti', 3274), ('twelv', 3275), ('dose', 3276), ('candid', 3277), ('mildr', 3278), ('mummi', 3279), ('kapoor', 3280), ('global', 3281), ('trio', 3282), ('funer', 3283), ('kirk', 3284), ('collabor', 3285), ('protest', 3286), ('astonish', 3287), ('confirm', 3288), ('fulci', 3289), ('detract', 3290), ('natali', 3291), ('jazz', 3292), ('altman', 3293), ('flame', 3294), ('delici', 3295), ('bull', 3296), ('shade', 3297), ('enterpris', 3298), ('yellow', 3299), ('nicholson', 3300), ('leap', 3301), ('bottl', 3302), ('audio', 3303), ('destini', 3304), ('blake', 3305), ('spit', 3306), ('mystic', 3307), ('racial', 3308), ('whip', 3309), ('tommi', 3310), ('pseudo', 3311), ('meaningless', 3312), ('altogeth', 3313), ('inherit', 3314), ('vivid', 3315), ('staff', 3316), ('todd', 3317), ('fonda', 3318), ('reunit', 3319), ('visibl', 3320), ('threw', 3321), ('enchant', 3322), ('harder', 3323), ('neo', 3324), ('swedish', 3325), ('merci', 3326), ('adolesc', 3327), ('popcorn', 3328), ('bedroom', 3329), ('synopsi', 3330), ('wire', 3331), ('voight', 3332), ('bust', 3333), ('fanat', 3334), ('lemmon', 3335), ('atlanti', 3336), ('respond', 3337), ('crocodil', 3338), ('tip', 3339), ('uneven', 3340), ('madonna', 3341), ('leonard', 3342), ('moodi', 3343), ('ruthless', 3344), ('await', 3345), ('decor', 3346), ('befriend', 3347), ('suspici', 3348), ('lawrenc', 3349), ('roommat', 3350), ('reserv', 3351), ('kennedi', 3352), ('exhibit', 3353), ('jew', 3354), ('edi', 3355), ('unsettl', 3356), ('bargain', 3357), ('bold', 3358), ('audit', 3359), ('abysm', 3360), ('voyag', 3361), ('clumsi', 3362), ('2007', 3363), ('rural', 3364), ('dimens', 3365), ('carl', 3366), ('garner', 3367), ('ventur', 3368), ('chao', 3369), ('holli', 3370), ('bradi', 3371), ('centr', 3372), ('clint', 3373), ('incident', 3374), ('palma', 3375), ('wealth', 3376), ('elimin', 3377), ('lit', 3378), ('neglect', 3379), ('trail', 3380), ('cuba', 3381), ('cari', 3382), ('troop', 3383), ('hart', 3384), ('immigr', 3385), ('characterist', 3386), ('2nd', 3387), ('daddi', 3388), ('echo', 3389), ('acknowledg', 3390), ('tiger', 3391), ('versu', 3392), ('nearbi', 3393), ('mall', 3394), ('humili', 3395), ('poetic', 3396), ('cd', 3397), ('imperson', 3398), ('ant', 3399), ('timon', 3400), ('pun', 3401), ('jeffrey', 3402), ('prejudic', 3403), ('celluloid', 3404), ('saga', 3405), ('solo', 3406), ('infect', 3407), ('repuls', 3408), ('domest', 3409), ('mistaken', 3410), ('collaps', 3411), ('paus', 3412), ('homer', 3413), ('marshal', 3414), ('mickey', 3415), ('coat', 3416), ('apolog', 3417), ('leon', 3418), ('assembl', 3419), ('1996', 3420), ('sore', 3421), ('ginger', 3422), ('promin', 3423), ('harvey', 3424), ('olivi', 3425), ('equip', 3426), ('undoubtedli', 3427), ('hbo', 3428), ('milk', 3429), ('cake', 3430), ('pant', 3431), ('inappropri', 3432), ('chest', 3433), ('coffe', 3434), ('interrupt', 3435), ('tribe', 3436), ('gear', 3437), ('inan', 3438), ('airplan', 3439), ('primari', 3440), ('pen', 3441), ('instant', 3442), ('colleagu', 3443), ('humbl', 3444), ('solut', 3445), ('exot', 3446), ('aveng', 3447), ('brooklyn', 3448), ('furthermor', 3449), ('institut', 3450), ('devast', 3451), ('colonel', 3452), ('pot', 3453), ('florida', 3454), ('highest', 3455), ('retain', 3456), ('trace', 3457), ('vulgar', 3458), ('consum', 3459), ('polanski', 3460), ('embrac', 3461), ('jenni', 3462), ('maggi', 3463), ('illog', 3464), ('bowl', 3465), ('descend', 3466), ('smaller', 3467), ('poke', 3468), ('1999', 3469), ('seduct', 3470), ('godzilla', 3471), ('outer', 3472), ('principl', 3473), ('strain', 3474), ('cope', 3475), ('sale', 3476), ('gender', 3477), ('wive', 3478), ('3rd', 3479), ('rick', 3480), ('dutch', 3481), ('dian', 3482), ('ya', 3483), ('disabl', 3484), ('linda', 3485), ('devoid', 3486), ('bubbl', 3487), ('vast', 3488), ('hal', 3489), ('mixtur', 3490), ('inferior', 3491), ('primarili', 3492), ('scope', 3493), ('gloriou', 3494), ('rabbit', 3495), ('lol', 3496), ('beneath', 3497), ('cue', 3498), ('blatant', 3499), ('secondli', 3500), ('predecessor', 3501), ('dive', 3502), ('dud', 3503), ('yard', 3504), ('glamor', 3505), ('gundam', 3506), ('arab', 3507), ('hideou', 3508), ('pearl', 3509), ('breed', 3510), ('aggress', 3511), ('z', 3512), ('casual', 3513), ('april', 3514), ('countrysid', 3515), ('alert', 3516), ('myer', 3517), ('domino', 3518), ('invas', 3519), ('simplist', 3520), ('alfr', 3521), ('shirley', 3522), ('talki', 3523), ('grinch', 3524), ('trademark', 3525), ('senseless', 3526), ('streep', 3527), ('et', 3528), ('museum', 3529), ('disjoint', 3530), ('shelf', 3531), ('garbo', 3532), ('stack', 3533), ('applaud', 3534), ('stellar', 3535), ('mayor', 3536), ('experiment', 3537), ('oz', 3538), ('mail', 3539), ('vanish', 3540), ('illeg', 3541), ('sh', 3542), ('hardcor', 3543), ('boom', 3544), ('robberi', 3545), ('unhappi', 3546), ('loyal', 3547), ('maci', 3548), ('stir', 3549), ('khan', 3550), ('robinson', 3551), ('hopeless', 3552), ('slide', 3553), ('rendit', 3554), ('obtain', 3555), ('acid', 3556), ('defens', 3557), ('disgrac', 3558), ('uwe', 3559), ('incomprehens', 3560), ('recruit', 3561), ('craze', 3562), ('psychic', 3563), ('wont', 3564), ('declin', 3565), ('tenant', 3566), ('span', 3567), ('emphasi', 3568), ('counter', 3569), ('soccer', 3570), ('dismiss', 3571), ('grandfath', 3572), ('tempt', 3573), ('amanda', 3574), ('dicken', 3575), ('topless', 3576), ('blew', 3577), ('berlin', 3578), ('fri', 3579), ('scroog', 3580), ('diana', 3581), ('hartley', 3582), ('rifl', 3583), ('spider', 3584), ('ration', 3585), ('porno', 3586), ('justin', 3587), ('resurrect', 3588), ('trashi', 3589), ('ethnic', 3590), ('goer', 3591), ('intim', 3592), ('wet', 3593), ('revolt', 3594), ('sympath', 3595), ('faster', 3596), ('lumet', 3597), ('sibl', 3598), ('shed', 3599), ('woo', 3600), ('parad', 3601), ('bitch', 3602), ('niro', 3603), ('riot', 3604), ('shaw', 3605), ('biographi', 3606), ('enlighten', 3607), ('honesti', 3608), ('rider', 3609), ('choru', 3610), ('region', 3611), ('wendi', 3612), ('dealer', 3613), ('andr', 3614), ('ensur', 3615), ('farmer', 3616), ('immort', 3617), ('patriot', 3618), ('weakest', 3619), ('partial', 3620), ('unreal', 3621), ('hesit', 3622), ('commend', 3623), ('eager', 3624), ('slick', 3625), ('gap', 3626), ('nephew', 3627), ('jonathan', 3628), ('feminist', 3629), ('steam', 3630), ('hopper', 3631), ('wheel', 3632), ('mario', 3633), ('ballet', 3634), ('lena', 3635), ('00', 3636), ('worm', 3637), ('kingdom', 3638), ('mutant', 3639), ('vice', 3640), ('confin', 3641), ('composit', 3642), ('util', 3643), ('morri', 3644), ('wore', 3645), ('hung', 3646), ('safeti', 3647), ('sappi', 3648), ('repress', 3649), ('franco', 3650), ('skull', 3651), ('blunt', 3652), ('psychopath', 3653), ('victori', 3654), ('sandra', 3655), ('similarli', 3656), ('prequel', 3657), ('leo', 3658), ('properti', 3659), ('snap', 3660), ('owen', 3661), ('charlott', 3662), ('nostalg', 3663), ('macarthur', 3664), ('acquir', 3665), ('strand', 3666), ('repli', 3667), ('cg', 3668), ('tad', 3669), ('nervou', 3670), ('rocki', 3671), ('heartbreak', 3672), ('compens', 3673), ('recycl', 3674), ('miseri', 3675), ('kyle', 3676), ('bumbl', 3677), ('campbel', 3678), ('latin', 3679), ('bergman', 3680), ('thru', 3681), ('snl', 3682), ('dust', 3683), ('despair', 3684), ('compass', 3685), ('bonu', 3686), ('speci', 3687), ('whoopi', 3688), ('tail', 3689), ('farrel', 3690), ('exit', 3691), ('valuabl', 3692), ('rope', 3693), ('pattern', 3694), ('emperor', 3695), ('drain', 3696), ('bow', 3697), ('drum', 3698), ('rambl', 3699), ('dalton', 3700), ('deed', 3701), ('montana', 3702), ('hyde', 3703), ('1972', 3704), ('del', 3705), ('gimmick', 3706), ('downhil', 3707), ('roth', 3708), ('35', 3709), ('wacki', 3710), ('pour', 3711), ('contempl', 3712), ('rapist', 3713), ('carradin', 3714), ('da', 3715), ('chess', 3716), ('rotten', 3717), ('martian', 3718), ('orson', 3719), ('mistress', 3720), ('airport', 3721), ('percept', 3722), ('tonight', 3723), ('olli', 3724), ('radic', 3725), ('oppress', 3726), ('slug', 3727), ('gal', 3728), ('romp', 3729), ('bleed', 3730), ('pervers', 3731), ('paltrow', 3732), ('programm', 3733), ('banal', 3734), ('mislead', 3735), ('tooth', 3736), ('unpredict', 3737), ('shelley', 3738), ('belt', 3739), ('stilt', 3740), ('taught', 3741), ('dazzl', 3742), ('pervert', 3743), ('arguabl', 3744), ('1983', 3745), ('arc', 3746), ('edgar', 3747), ('tackl', 3748), ('pursuit', 3749), ('heal', 3750), ('attorney', 3751), ('slash', 3752), ('preach', 3753), ('champion', 3754), ('melodi', 3755), ('bela', 3756), ('virginia', 3757), ('uplift', 3758), ('tiresom', 3759), ('plight', 3760), ('orang', 3761), ('duval', 3762), ('sensat', 3763), ('chicken', 3764), ('maid', 3765), ('closest', 3766), ('mesmer', 3767), ('gambl', 3768), ('graham', 3769), ('conneri', 3770), ('rubi', 3771), ('franki', 3772), ('marti', 3773), ('poem', 3774), ('passeng', 3775), ('vengeanc', 3776), ('vocal', 3777), ('raymond', 3778), ('employe', 3779), ('dixon', 3780), ('cleverli', 3781), ('quarter', 3782), ('volum', 3783), ('calm', 3784), ('clone', 3785), ('mute', 3786), ('profan', 3787), ('outing', 3788), ('scottish', 3789), ('secretli', 3790), ('1968', 3791), ('whine', 3792), ('giggl', 3793), ('inject', 3794), ('abraham', 3795), ('extens', 3796), ('lundgren', 3797), ('paranoia', 3798), ('crystal', 3799), ('swallow', 3800), ('climact', 3801), ('convincingli', 3802), ('amitabh', 3803), ('iran', 3804), ('numb', 3805), ('tube', 3806), ('monologu', 3807), ('yawn', 3808), ('pokemon', 3809), ('habit', 3810), ('suffic', 3811), ('bay', 3812), ('engross', 3813), ('gerard', 3814), ('sirk', 3815), ('profess', 3816), ('bend', 3817), ('expand', 3818), ('junior', 3819), ('backward', 3820), ('austen', 3821), ('spock', 3822), ('fed', 3823), ('meander', 3824), ('im', 3825), ('trend', 3826), ('linger', 3827), ('septemb', 3828), ('ethan', 3829), ('richardson', 3830), ('nichola', 3831), ('poetri', 3832), ('grotesqu', 3833), ('abort', 3834), ('surpass', 3835), ('chicago', 3836), ('plod', 3837), ('lowest', 3838), ('franci', 3839), ('taxi', 3840), ('underst', 3841), ('dispos', 3842), ('earl', 3843), ('frankenstein', 3844), ('mundan', 3845), ('tourist', 3846), ('econom', 3847), ('waitress', 3848), ('stallon', 3849), ('spoke', 3850), ('lure', 3851), ('compliment', 3852), ('catchi', 3853), ('descent', 3854), ('literatur', 3855), ('greedi', 3856), ('rubber', 3857), ('hum', 3858), ('household', 3859), ('sue', 3860), ('dysfunct', 3861), ('myth', 3862), ('instrument', 3863), ('cannon', 3864), ('nostalgia', 3865), ('muddl', 3866), ('rant', 3867), ('der', 3868), ('simplic', 3869), ('eugen', 3870), ('irrelev', 3871), ('dement', 3872), ('hello', 3873), ('mortal', 3874), ('deaf', 3875), ('june', 3876), ('randi', 3877), ('damon', 3878), ('eaten', 3879), ('recognis', 3880), ('lang', 3881), ('omen', 3882), ('map', 3883), ('recognit', 3884), ('occupi', 3885), ('phoni', 3886), ('insur', 3887), ('crucial', 3888), ('equival', 3889), ('firstli', 3890), ('alongsid', 3891), ('furi', 3892), ('stale', 3893), ('mankind', 3894), ('bacal', 3895), ('dictat', 3896), ('duck', 3897), ('phantom', 3898), ('molli', 3899), ('cent', 3900), ('louis', 3901), ('flee', 3902), ('coast', 3903), ('sissi', 3904), ('carel', 3905), ('dreari', 3906), ('freez', 3907), ('labor', 3908), ('blackmail', 3909), ('bike', 3910), ('lengthi', 3911), ('buffalo', 3912), ('wisdom', 3913), ('drake', 3914), ('heel', 3915), ('antwon', 3916), ('onlin', 3917), ('reign', 3918), ('grayson', 3919), ('1973', 3920), ('newli', 3921), ('distinguish', 3922), ('rude', 3923), ('rooney', 3924), ('bump', 3925), ('cyborg', 3926), ('damm', 3927), ('loyalti', 3928), ('likewis', 3929), ('ashley', 3930), ('daisi', 3931), ('biko', 3932), ('twilight', 3933), ('emphas', 3934), ('proce', 3935), ('provoc', 3936), ('tunnel', 3937), ('startl', 3938), ('pink', 3939), ('unorigin', 3940), ('exposur', 3941), ('nineti', 3942), ('interior', 3943), ('chronicl', 3944), ('ridden', 3945), ('analysi', 3946), ('worn', 3947), ('boxer', 3948), ('barrymor', 3949), ('keith', 3950), ('inher', 3951), ('sailor', 3952), ('vein', 3953), ('incorpor', 3954), ('attribut', 3955), ('baddi', 3956), ('prey', 3957), ('basketbal', 3958), ('butler', 3959), ('approv', 3960), ('julian', 3961), ('carla', 3962), ('meg', 3963), ('fleet', 3964), ('degrad', 3965), ('predat', 3966), ('mighti', 3967), ('substitut', 3968), ('er', 3969), ('condemn', 3970), ('improvis', 3971), ('barrel', 3972), ('indiffer', 3973), ('simmon', 3974), ('millionair', 3975), ('othello', 3976), ('underli', 3977), ('undeni', 3978), ('walsh', 3979), ('bunni', 3980), ('unrel', 3981), ('meyer', 3982), ('drift', 3983), ('stalker', 3984), ('robbin', 3985), ('nicol', 3986), ('mormon', 3987), ('hypnot', 3988), ('belushi', 3989), ('elm', 3990), ('lampoon', 3991), ('disord', 3992), ('warmth', 3993), ('agenda', 3994), ('mtv', 3995), ('vital', 3996), ('edgi', 3997), ('greed', 3998), ('palac', 3999), ('alison', 4000), ('novak', 4001), ('roof', 4002), ('nyc', 4003), ('dolph', 4004), ('priceless', 4005), ('unawar', 4006), ('marion', 4007), ('3d', 4008), ('shove', 4009), ('enthusiasm', 4010), ('firm', 4011), ('hay', 4012), ('watson', 4013), ('reid', 4014), ('exquisit', 4015), ('alarm', 4016), ('rukh', 4017), ('errol', 4018), ('angela', 4019), ('campaign', 4020), ('session', 4021), ('thompson', 4022), ('minimum', 4023), ('showdown', 4024), ('crown', 4025), ('simultan', 4026), ('beatl', 4027), ('iraq', 4028), ('israel', 4029), ('randomli', 4030), ('eastern', 4031), ('sergeant', 4032), ('valentin', 4033), ('gestur', 4034), ('orlean', 4035), ('unleash', 4036), ('petti', 4037), ('coup', 4038), ('ponder', 4039), ('1933', 4040), ('peril', 4041), ('nun', 4042), ('13th', 4043), ('profit', 4044), ('distort', 4045), ('peck', 4046), ('testament', 4047), ('glanc', 4048), ('cassidi', 4049), ('pamela', 4050), ('drip', 4051), ('preserv', 4052), ('spain', 4053), ('championship', 4054), ('zizek', 4055), ('what', 4056), ('empathi', 4057), ('calib', 4058), ('kurosawa', 4059), ('gentleman', 4060), ('restrain', 4061), ('han', 4062), ('perpetu', 4063), ('cream', 4064), ('valley', 4065), ('stake', 4066), ('stroke', 4067), ('crow', 4068), ('shootout', 4069), ('mon', 4070), ('represent', 4071), ('sabrina', 4072), ('realm', 4073), ('1984', 4074), ('contradict', 4075), ('fido', 4076), ('brenda', 4077), ('bro', 4078), ('reson', 4079), ('travesti', 4080), ('wig', 4081), ('rout', 4082), ('quinn', 4083), ('exposit', 4084), ('din', 4085), ('climat', 4086), ('cooki', 4087), ('buster', 4088), ('crawl', 4089), ('unimagin', 4090), ('scotland', 4091), ('jan', 4092), ('miyazaki', 4093), ('regist', 4094), ('perceiv', 4095), ('greg', 4096), ('traumat', 4097), ('compromis', 4098), ('passabl', 4099), ('1997', 4100), ('absent', 4101), ('derang', 4102), ('femm', 4103), ('unseen', 4104), ('monoton', 4105), ('1987', 4106), ('abomin', 4107), ('stargat', 4108), ('dana', 4109), ('shaki', 4110), ('businessman', 4111), ('baldwin', 4112), ('sammi', 4113), ('censor', 4114), ('ross', 4115), ('geek', 4116), ('painter', 4117), ('shoddi', 4118), ('warrant', 4119), ('distress', 4120), ('sucker', 4121), ('wax', 4122), ('darren', 4123), ('crawford', 4124), ('demis', 4125), ('delic', 4126), ('josh', 4127), ('cloud', 4128), ('mclaglen', 4129), ('meryl', 4130), ('pretens', 4131), ('spacey', 4132), ('unsatisfi', 4133), ('fuller', 4134), ('tacki', 4135), ('pole', 4136), ('ustinov', 4137), ('soderbergh', 4138), ('correctli', 4139), ('reluct', 4140), ('sid', 4141), ('valid', 4142), ('nathan', 4143), ('wholli', 4144), ('fog', 4145), ('judgment', 4146), ('accuraci', 4147), ('jewel', 4148), ('clash', 4149), ('polici', 4150), ('tech', 4151), ('primit', 4152), ('furiou', 4153), ('verbal', 4154), ('dee', 4155), ('kumar', 4156), ('click', 4157), ('fenc', 4158), ('unravel', 4159), ('anchor', 4160), ('expedit', 4161), ('norm', 4162), ('deniro', 4163), ('1993', 4164), ('exclus', 4165), ('uncov', 4166), ('seal', 4167), ('deceas', 4168), ('austin', 4169), ('tarantino', 4170), ('antonioni', 4171), ('debt', 4172), ('unfair', 4173), ('fabric', 4174), ('fart', 4175), ('clerk', 4176), ('temper', 4177), ('slam', 4178), ('vanc', 4179), ('enforc', 4180), ('bake', 4181), ('alec', 4182), ('ritual', 4183), ('behold', 4184), ('1971', 4185), ('patienc', 4186), ('2008', 4187), ('mode', 4188), ('sunni', 4189), ('sustain', 4190), ('sand', 4191), ('dreck', 4192), ('seldom', 4193), ('1995', 4194), ('joel', 4195), ('wretch', 4196), ('darn', 4197), ('murray', 4198), ('crippl', 4199), ('fought', 4200), ('sheet', 4201), ('conduct', 4202), ('pocket', 4203), ('wang', 4204), ('roller', 4205), ('tax', 4206), ('trait', 4207), ('malon', 4208), ('hallucin', 4209), ('nicola', 4210), ('logan', 4211), ('shanghai', 4212), ('3000', 4213), ('squad', 4214), ('stark', 4215), ('bias', 4216), ('pete', 4217), ('isabel', 4218), ('grief', 4219), ('fundament', 4220), ('bridget', 4221), ('robber', 4222), ('schedul', 4223), ('rita', 4224), ('clau', 4225), ('phil', 4226), ('guitar', 4227), ('exhaust', 4228), ('tactic', 4229), ('conscious', 4230), ('outlin', 4231), ('divid', 4232), ('legaci', 4233), ('runner', 4234), ('soup', 4235), ('helpless', 4236), ('despis', 4237), ('stuart', 4238), ('shell', 4239), ('canyon', 4240), ('critiqu', 4241), ('sweep', 4242), ('preposter', 4243), ('technicolor', 4244), ('penni', 4245), ('scriptwrit', 4246), ('preston', 4247), ('drove', 4248), ('unexpectedli', 4249), ('alley', 4250), ('russia', 4251), ('bloom', 4252), ('alicia', 4253), ('propos', 4254), ('flair', 4255), ('jacket', 4256), ('lacklust', 4257), ('passag', 4258), ('sentinel', 4259), ('kansa', 4260), ('consciou', 4261), ('agenc', 4262), ('invad', 4263), ('vomit', 4264), ('gregori', 4265), ('liberti', 4266), ('marc', 4267), ('implic', 4268), ('sugar', 4269), ('cigarett', 4270), ('newman', 4271), ('restrict', 4272), ('rear', 4273), ('delv', 4274), ('inabl', 4275), ('palanc', 4276), ('rehash', 4277), ('culmin', 4278), ('jodi', 4279), ('connor', 4280), ('boyl', 4281), ('sniper', 4282), ('downey', 4283), ('improb', 4284), ('pale', 4285), ('22', 4286), ('aesthet', 4287), ('mccoy', 4288), ('ladder', 4289), ('rod', 4290), ('lush', 4291), ('awhil', 4292), ('wrench', 4293), ('behaviour', 4294), ('chainsaw', 4295), ('delet', 4296), ('1936', 4297), ('asylum', 4298), ('karl', 4299), ('rehears', 4300), ('bacon', 4301), ('tripe', 4302), ('vet', 4303), ('arrow', 4304), ('tendenc', 4305), ('rampag', 4306), ('horn', 4307), ('sharon', 4308), ('foxx', 4309), ('cap', 4310), ('feat', 4311), ('yeti', 4312), ('kolchak', 4313), ('sung', 4314), ('conscienc', 4315), ('thunderbird', 4316), ('paradis', 4317), ('aristocrat', 4318), ('hungri', 4319), ('rumor', 4320), ('financ', 4321), ('weav', 4322), ('tasteless', 4323), ('wagner', 4324), ('underneath', 4325), ('globe', 4326), ('rhythm', 4327), ('visitor', 4328), ('elit', 4329), ('1988', 4330), ('prank', 4331), ('stream', 4332), ('19th', 4333), ('basing', 4334), ('loneli', 4335), ('spice', 4336), ('coaster', 4337), ('newcom', 4338), ('fright', 4339), ('1920', 4340), ('lurk', 4341), ('amazon', 4342), ('wildli', 4343), ('filler', 4344), ('paramount', 4345), ('hulk', 4346), ('hackney', 4347), ('scoop', 4348), ('tomorrow', 4349), ('shortcom', 4350), ('el', 4351), ('suspicion', 4352), ('suffici', 4353), ('minu', 4354), ('1978', 4355), ('naughti', 4356), ('chavez', 4357), ('cancer', 4358), ('smell', 4359), ('immers', 4360), ('ingeni', 4361), ('standout', 4362), ('heist', 4363), ('grudg', 4364), ('75', 4365), ('beverli', 4366), ('impos', 4367), ('1939', 4368), ('hopkin', 4369), ('worship', 4370), ('atroc', 4371), ('counterpart', 4372), ('choppi', 4373), ('quietli', 4374), ('brit', 4375), ('minist', 4376), ('rub', 4377), ('lectur', 4378), ('curli', 4379), ('chamberlain', 4380), ('en', 4381), ('ram', 4382), ('straightforward', 4383), ('recogniz', 4384), ('tierney', 4385), ('leigh', 4386), ('bread', 4387), ('couch', 4388), ('literari', 4389), ('dirt', 4390), ('teas', 4391), ('entranc', 4392), ('abrupt', 4393), ('posey', 4394), ('springer', 4395), ('inmat', 4396), ('secondari', 4397), ('wwe', 4398), ('1989', 4399), ('iv', 4400), ('penn', 4401), ('paxton', 4402), ('nolan', 4403), ('variat', 4404), ('duel', 4405), ('quaid', 4406), ('skeptic', 4407), ('laurenc', 4408), ('transcend', 4409), ('entitl', 4410), ('missil', 4411), ('bernard', 4412), ('yearn', 4413), ('morbid', 4414), ('misguid', 4415), ('sassi', 4416), ('lindsay', 4417), ('nemesi', 4418), ('sublim', 4419), ('convert', 4420), ('injuri', 4421), ('ace', 4422), ('clan', 4423), ('1986', 4424), ('enthral', 4425), ('moreov', 4426), ('heartfelt', 4427), ('attenborough', 4428), ('policeman', 4429), ('net', 4430), ('geni', 4431), ('ratso', 4432), ('watcher', 4433), ('cattl', 4434), ('esther', 4435), ('hopelessli', 4436), ('kitti', 4437), ('steadi', 4438), ('facil', 4439), ('youngest', 4440), ('1979', 4441), ('characteris', 4442), ('vader', 4443), ('rosemari', 4444), ('buzz', 4445), ('poe', 4446), ('tyler', 4447), ('diari', 4448), ('unexplain', 4449), ('moder', 4450), ('out', 4451), ('mytholog', 4452), ('spiral', 4453), ('dont', 4454), ('obstacl', 4455), ('hk', 4456), ('enabl', 4457), ('brood', 4458), ('egg', 4459), ('graini', 4460), ('reliabl', 4461), ('cruelti', 4462), ('bye', 4463), ('carlito', 4464), ('bean', 4465), ('puppi', 4466), ('artsi', 4467), ('kidman', 4468), ('grin', 4469), ('uncut', 4470), ('setup', 4471), ('athlet', 4472), ('disastr', 4473), ('bronson', 4474), ('acquaint', 4475), ('niec', 4476), ('sweat', 4477), ('decept', 4478), ('baffl', 4479), ('preming', 4480), ('clueless', 4481), ('despic', 4482), ('gina', 4483), ('hain', 4484), ('gillian', 4485), ('1969', 4486), ('exterior', 4487), ('oblig', 4488), ('bewar', 4489), ('martha', 4490), ('spontan', 4491), ('heap', 4492), ('hammi', 4493), ('underworld', 4494), ('narrow', 4495), ('bounc', 4496), ('christin', 4497), ('fuel', 4498), ('patricia', 4499), ('brendan', 4500), ('weather', 4501), ('kline', 4502), ('effici', 4503), ('circu', 4504), ('loi', 4505), ('hepburn', 4506), ('virtu', 4507), ('uh', 4508), ('19', 4509), ('suprem', 4510), ('angst', 4511), ('goof', 4512), ('headach', 4513), ('mayhem', 4514), ('sleepwalk', 4515), ('taboo', 4516), ('loath', 4517), ('dandi', 4518), ('biker', 4519), ('injur', 4520), ('harmless', 4521), ('dilemma', 4522), ('enlist', 4523), ('rome', 4524), ('housewif', 4525), ('preachi', 4526), ('lester', 4527), ('candl', 4528), ('shatter', 4529), ('viewpoint', 4530), ('sooner', 4531), ('insipid', 4532), ('tick', 4533), ('outlaw', 4534), ('trigger', 4535), ('73', 4536), ('analyz', 4537), ('fontain', 4538), ('astound', 4539), ('scar', 4540), ('renaiss', 4541), ('mermaid', 4542), ('glorifi', 4543), ('fluff', 4544), ('surgeri', 4545), ('dish', 4546), ('tripl', 4547), ('sox', 4548), ('overlong', 4549), ('hokey', 4550), ('whore', 4551), ('zoom', 4552), ('boston', 4553), ('redund', 4554), ('stimul', 4555), ('cassavet', 4556), ('dismal', 4557), ('gere', 4558), ('contempt', 4559), ('hostag', 4560), ('claustrophob', 4561), ('macho', 4562), ('immatur', 4563), ('oldest', 4564), ('stair', 4565), ('foolish', 4566), ('amor', 4567), ('spade', 4568), ('steer', 4569), ('hooker', 4570), ('camcord', 4571), ('phenomenon', 4572), ('bent', 4573), ('slimi', 4574), ('ebert', 4575), ('salt', 4576), ('guin', 4577), ('intric', 4578), ('scorses', 4579), ('filth', 4580), ('idol', 4581), ('corbett', 4582), ('ariel', 4583), ('1981', 4584), ('frantic', 4585), ('shield', 4586), ('trivia', 4587), ('corman', 4588), ('shred', 4589), ('messi', 4590), ('preced', 4591), ('fascist', 4592), ('naschi', 4593), ('faint', 4594), ('dwarf', 4595), ('flag', 4596), ('remad', 4597), ('strongest', 4598), ('joker', 4599), ('rhyme', 4600), ('harold', 4601), ('spree', 4602), ('cow', 4603), ('conquer', 4604), ('flirt', 4605), ('gasp', 4606), ('keen', 4607), ('widescreen', 4608), ('mutual', 4609), ('cohen', 4610), ('obligatori', 4611), ('perman', 4612), ('antagonist', 4613), ('transplant', 4614), ('mount', 4615), ('flashi', 4616), ('alvin', 4617), ('zane', 4618), ('margin', 4619), ('muscl', 4620), ('nolt', 4621), ('cush', 4622), ('beard', 4623), ('proport', 4624), ('gabl', 4625), ('1976', 4626), ('down', 4627), ('astronaut', 4628), ('assert', 4629), ('radiat', 4630), ('schlock', 4631), ('spinal', 4632), ('95', 4633), ('28', 4634), ('someday', 4635), ('strive', 4636), ('bachelor', 4637), ('danish', 4638), ('vaniti', 4639), ('brush', 4640), ('flock', 4641), ('fishburn', 4642), ('inflict', 4643), ('off', 4644), ('raj', 4645), ('persuad', 4646), ('sensual', 4647), ('www', 4648), ('repris', 4649), ('neurot', 4650), ('divin', 4651), ('hara', 4652), ('interestingli', 4653), ('wield', 4654), ('mobil', 4655), ('deer', 4656), ('archiv', 4657), ('info', 4658), ('boob', 4659), ('carey', 4660), ('instruct', 4661), ('triangl', 4662), ('mol', 4663), ('aborigin', 4664), ('bitten', 4665), ('barn', 4666), ('discern', 4667), ('claud', 4668), ('scandal', 4669), ('resum', 4670), ('1945', 4671), ('departur', 4672), ('ritchi', 4673), ('miracul', 4674), ('traffic', 4675), ('timberlak', 4676), ('europa', 4677), ('colin', 4678), ('bate', 4679), ('cliffhang', 4680), ('vibrant', 4681), ('cb', 4682), ('prophet', 4683), ('dim', 4684), ('carlo', 4685), ('hilar', 4686), ('pixar', 4687), ('mobster', 4688), ('biblic', 4689), ('jade', 4690), ('axe', 4691), ('recit', 4692), ('cycl', 4693), ('pacif', 4694), ('rot', 4695), ('hug', 4696), ('senior', 4697), ('earnest', 4698), ('neill', 4699), ('kathryn', 4700), ('banter', 4701), ('undermin', 4702), ('clad', 4703), ('submit', 4704), ('ish', 4705), ('heartwarm', 4706), ('helm', 4707), ('melissa', 4708), ('wendigo', 4709), ('parson', 4710), ('proclaim', 4711), ('artwork', 4712), ('fragil', 4713), ('frontier', 4714), ('dame', 4715), ('harrison', 4716), ('luka', 4717), ('anton', 4718), ('pickford', 4719), ('dylan', 4720), ('hapless', 4721), ('cher', 4722), ('casino', 4723), ('loretta', 4724), ('blatantli', 4725), ('seedi', 4726), ('electron', 4727), ('eli', 4728), ('misfortun', 4729), ('pc', 4730), ('token', 4731), ('bikini', 4732), ('legitim', 4733), ('trier', 4734), ('toronto', 4735), ('isra', 4736), ('jordan', 4737), ('illus', 4738), ('aris', 4739), ('choke', 4740), ('sicken', 4741), ('feast', 4742), ('mason', 4743), ('jo', 4744), ('razor', 4745), ('flavor', 4746), ('nope', 4747), ('lucil', 4748), ('marlon', 4749), ('bondag', 4750), ('foil', 4751), ('northern', 4752), ('mathieu', 4753), ('venom', 4754), ('alexandr', 4755), ('http', 4756), ('orphan', 4757), ('breakfast', 4758), ('cerebr', 4759), ('milo', 4760), ('lui', 4761), ('wardrob', 4762), ('akin', 4763), ('winchest', 4764), ('vile', 4765), ('antholog', 4766), ('articl', 4767), ('redneck', 4768), ('uma', 4769), ('estrang', 4770), ('static', 4771), ('vanessa', 4772), ('holocaust', 4773), ('shepherd', 4774), ('rooki', 4775), ('knightley', 4776), ('audrey', 4777), ('deem', 4778), ('ceremoni', 4779), ('charlton', 4780), ('oppon', 4781), ('psych', 4782), ('gilbert', 4783), ('huston', 4784), ('fifth', 4785), ('shorter', 4786), ('cartoonish', 4787), ('howl', 4788), ('ideolog', 4789), ('swept', 4790), ('outdat', 4791), ('feminin', 4792), ('comprehend', 4793), ('styliz', 4794), ('leather', 4795), ('linear', 4796), ('wrestler', 4797), ('highway', 4798), ('smack', 4799), ('turd', 4800), ('frog', 4801), ('gunga', 4802), ('disregard', 4803), ('peer', 4804), ('magician', 4805), ('nightclub', 4806), ('tack', 4807), ('glare', 4808), ('dudley', 4809), ('affleck', 4810), ('abund', 4811), ('retriev', 4812), ('clinic', 4813), ('boyer', 4814), ('tara', 4815), ('summar', 4816), ('spawn', 4817), ('uniformli', 4818), ('lifeless', 4819), ('energet', 4820), ('sleaz', 4821), ('bastard', 4822), ('durat', 4823), ('chip', 4824), ('1991', 4825), ('monument', 4826), ('client', 4827), ('newer', 4828), ('braveheart', 4829), ('toe', 4830), ('lighter', 4831), ('spine', 4832), ('1994', 4833), ('phenomen', 4834), ('whack', 4835), ('evolut', 4836), ('corn', 4837), ('breakdown', 4838), ('plate', 4839), ('cuban', 4840), ('4th', 4841), ('btw', 4842), ('snatch', 4843), ('einstein', 4844), ('compris', 4845), ('boo', 4846), ('greet', 4847), ('collector', 4848), ('deliver', 4849), ('conrad', 4850), ('senat', 4851), ('potter', 4852), ('bogu', 4853), ('lavish', 4854), ('cemeteri', 4855), ('mitch', 4856), ('moe', 4857), ('salman', 4858), ('goldsworthi', 4859), ('jam', 4860), ('1974', 4861), ('signal', 4862), ('bori', 4863), ('gilliam', 4864), ('healthi', 4865), ('neatli', 4866), ('jedi', 4867), ('trauma', 4868), ('occup', 4869), ('embark', 4870), ('ol', 4871), ('constitut', 4872), ('1977', 4873), ('outright', 4874), ('replay', 4875), ('alleg', 4876), ('fluid', 4877), ('capot', 4878), ('jule', 4879), ('sorrow', 4880), ('evelyn', 4881), ('undead', 4882), ('inaccuraci', 4883), ('randolph', 4884), ('ie', 4885), ('armstrong', 4886), ('jare', 4887), ('kazan', 4888), ('historian', 4889), ('bulk', 4890), ('firmli', 4891), ('lex', 4892), ('nina', 4893), ('mcqueen', 4894), ('judd', 4895), ('creek', 4896), ('eleven', 4897), ('liu', 4898), ('kent', 4899), ('wtf', 4900), ('luxuri', 4901), ('clara', 4902), ('undertak', 4903), ('belli', 4904), ('appl', 4905), ('spectacl', 4906), ('cecil', 4907), ('pronounc', 4908), ('antonio', 4909), ('porter', 4910), ('inaccur', 4911), ('tokyo', 4912), ('abound', 4913), ('miniseri', 4914), ('unattract', 4915), ('kiddi', 4916), ('goldblum', 4917), ('cape', 4918), ('bsg', 4919), ('paula', 4920), ('id', 4921), ('truman', 4922), ('relentless', 4923), ('blur', 4924), ('poker', 4925), ('pepper', 4926), ('meal', 4927), ('curtain', 4928), ('rosario', 4929), ('comprehens', 4930), ('knee', 4931), ('walt', 4932), ('sacrif', 4933), ('fruit', 4934), ('decapit', 4935), ('pioneer', 4936), ('galaxi', 4937), ('subtli', 4938), ('groan', 4939), ('inclus', 4940), ('lauren', 4941), ('unsuspect', 4942), ('roar', 4943), ('lanc', 4944), ('basket', 4945), ('aussi', 4946), ('palm', 4947), ('propheci', 4948), ('miami', 4949), ('comb', 4950), ('vain', 4951), ('mum', 4952), ('1985', 4953), ('spray', 4954), ('sidewalk', 4955), ('genet', 4956), ('bait', 4957), ('conan', 4958), ('carmen', 4959), ('forgiven', 4960), ('congratul', 4961), ('vignett', 4962), ('ash', 4963), ('dubiou', 4964), ('reincarn', 4965), ('bach', 4966), ('macabr', 4967), ('victorian', 4968), ('asset', 4969), ('sophi', 4970), ('profil', 4971), ('weaker', 4972), ('orchestr', 4973), ('spill', 4974), ('handicap', 4975), ('substanti', 4976), ('omin', 4977), ('ingrid', 4978), ('motorcycl', 4979), ('playboy', 4980), ('scariest', 4981), ('epitom', 4982), ('detach', 4983), ('jill', 4984), ('weari', 4985), ('masterson', 4986), ('incorrect', 4987), ('bravo', 4988), ('modest', 4989), ('drone', 4990), ('sparkl', 4991), ('verg', 4992), ('monti', 4993), ('assort', 4994), ('vastli', 4995), ('frontal', 4996), ('rapidli', 4997), ('turtl', 4998), ('21st', 4999)])"
      ]
     },
     "execution_count": 43,
     "metadata": {},
     "output_type": "execute_result"
    }
   ],
   "source": [
    "# TODO: Use this space to determine the five most frequently appearing words in the training set.\n",
    "\n",
    "word_dict.items()"
   ]
  },
  {
   "cell_type": "markdown",
   "metadata": {},
   "source": [
    "### Save `word_dict`\n",
    "\n",
    "Later on when we construct an endpoint which processes a submitted review we will need to make use of the `word_dict` which we have created. As such, we will save it to a file now for future use."
   ]
  },
  {
   "cell_type": "code",
   "execution_count": 44,
   "metadata": {},
   "outputs": [],
   "source": [
    "data_dir = '../data/pytorch' # The folder we will use for storing data\n",
    "if not os.path.exists(data_dir): # Make sure that the folder exists\n",
    "    os.makedirs(data_dir)"
   ]
  },
  {
   "cell_type": "code",
   "execution_count": 45,
   "metadata": {},
   "outputs": [],
   "source": [
    "with open(os.path.join(data_dir, 'word_dict.pkl'), \"wb\") as f:\n",
    "    pickle.dump(word_dict, f)"
   ]
  },
  {
   "cell_type": "markdown",
   "metadata": {},
   "source": [
    "### Transform the reviews\n",
    "\n",
    "Now that we have our word dictionary which allows us to transform the words appearing in the reviews into integers, it is time to make use of it and convert our reviews to their integer sequence representation, making sure to pad or truncate to a fixed length, which in our case is `500`."
   ]
  },
  {
   "cell_type": "code",
   "execution_count": 46,
   "metadata": {},
   "outputs": [],
   "source": [
    "def convert_and_pad(word_dict, sentence, pad=500):\n",
    "    NOWORD = 0 # We will use 0 to represent the 'no word' category\n",
    "    INFREQ = 1 # and we use 1 to represent the infrequent words, i.e., words not appearing in word_dict\n",
    "    \n",
    "    working_sentence = [NOWORD] * pad\n",
    "    \n",
    "    for word_index, word in enumerate(sentence[:pad]):\n",
    "        if word in word_dict:\n",
    "            working_sentence[word_index] = word_dict[word]\n",
    "        else:\n",
    "            working_sentence[word_index] = INFREQ\n",
    "            \n",
    "    return working_sentence, min(len(sentence), pad)\n",
    "\n",
    "def convert_and_pad_data(word_dict, data, pad=500):\n",
    "    result = []\n",
    "    lengths = []\n",
    "    \n",
    "    for sentence in data:\n",
    "        converted, leng = convert_and_pad(word_dict, sentence, pad)\n",
    "        result.append(converted)\n",
    "        lengths.append(leng)\n",
    "        \n",
    "    return np.array(result), np.array(lengths)"
   ]
  },
  {
   "cell_type": "code",
   "execution_count": 47,
   "metadata": {},
   "outputs": [],
   "source": [
    "train_X, train_X_len = convert_and_pad_data(word_dict, train_X)\n",
    "test_X, test_X_len = convert_and_pad_data(word_dict, test_X)"
   ]
  },
  {
   "cell_type": "markdown",
   "metadata": {},
   "source": [
    "As a quick check to make sure that things are working as intended, check to see what one of the reviews in the training set looks like after having been processeed. Does this look reasonable? What is the length of a review in the training set?"
   ]
  },
  {
   "cell_type": "code",
   "execution_count": null,
   "metadata": {},
   "outputs": [],
   "source": [
    "# Use this cell to examine one of the processed reviews to make sure everything is working as intended."
   ]
  },
  {
   "cell_type": "markdown",
   "metadata": {},
   "source": [
    "**Question:** In the cells above we use the `preprocess_data` and `convert_and_pad_data` methods to process both the training and testing set. Why or why not might this be a problem?"
   ]
  },
  {
   "cell_type": "markdown",
   "metadata": {},
   "source": [
    "**Answer:**"
   ]
  },
  {
   "cell_type": "markdown",
   "metadata": {},
   "source": [
    "## Step 3: Upload the data to S3\n",
    "\n",
    "As in the XGBoost notebook, we will need to upload the training dataset to S3 in order for our training code to access it. For now we will save it locally and we will upload to S3 later on.\n",
    "\n",
    "### Save the processed training dataset locally\n",
    "\n",
    "It is important to note the format of the data that we are saving as we will need to know it when we write the training code. In our case, each row of the dataset has the form `label`, `length`, `review[500]` where `review[500]` is a sequence of `500` integers representing the words in the review."
   ]
  },
  {
   "cell_type": "code",
   "execution_count": null,
   "metadata": {},
   "outputs": [],
   "source": [
    "import pandas as pd\n",
    "    \n",
    "pd.concat([pd.DataFrame(train_y), pd.DataFrame(train_X_len), pd.DataFrame(train_X)], axis=1) \\\n",
    "        .to_csv(os.path.join(data_dir, 'train.csv'), header=False, index=False)"
   ]
  },
  {
   "cell_type": "markdown",
   "metadata": {},
   "source": [
    "### Uploading the training data\n",
    "\n",
    "\n",
    "Next, we need to upload the training data to the SageMaker default S3 bucket so that we can provide access to it while training our model."
   ]
  },
  {
   "cell_type": "code",
   "execution_count": null,
   "metadata": {},
   "outputs": [],
   "source": [
    "import sagemaker\n",
    "\n",
    "sagemaker_session = sagemaker.Session()\n",
    "\n",
    "bucket = sagemaker_session.default_bucket()\n",
    "prefix = 'sagemaker/sentiment_rnn'\n",
    "\n",
    "role = sagemaker.get_execution_role()"
   ]
  },
  {
   "cell_type": "code",
   "execution_count": null,
   "metadata": {},
   "outputs": [],
   "source": [
    "input_data = sagemaker_session.upload_data(path=data_dir, bucket=bucket, key_prefix=prefix)"
   ]
  },
  {
   "cell_type": "markdown",
   "metadata": {},
   "source": [
    "**NOTE:** The cell above uploads the entire contents of our data directory. This includes the `word_dict.pkl` file. This is fortunate as we will need this later on when we create an endpoint that accepts an arbitrary review. For now, we will just take note of the fact that it resides in the data directory (and so also in the S3 training bucket) and that we will need to make sure it gets saved in the model directory."
   ]
  },
  {
   "cell_type": "markdown",
   "metadata": {},
   "source": [
    "## Step 4: Build and Train the PyTorch Model\n",
    "\n",
    "In the XGBoost notebook we discussed what a model is in the SageMaker framework. In particular, a model comprises three objects\n",
    "\n",
    " - Model Artifacts,\n",
    " - Training Code, and\n",
    " - Inference Code,\n",
    " \n",
    "each of which interact with one another. In the XGBoost example we used training and inference code that was provided by Amazon. Here we will still be using containers provided by Amazon with the added benefit of being able to include our own custom code.\n",
    "\n",
    "We will start by implementing our own neural network in PyTorch along with a training script. For the purposes of this project we have provided the necessary model object in the `model.py` file, inside of the `train` folder. You can see the provided implementation by running the cell below."
   ]
  },
  {
   "cell_type": "code",
   "execution_count": null,
   "metadata": {},
   "outputs": [],
   "source": [
    "!pygmentize train/model.py"
   ]
  },
  {
   "cell_type": "markdown",
   "metadata": {},
   "source": [
    "The important takeaway from the implementation provided is that there are three parameters that we may wish to tweak to improve the performance of our model. These are the embedding dimension, the hidden dimension and the size of the vocabulary. We will likely want to make these parameters configurable in the training script so that if we wish to modify them we do not need to modify the script itself. We will see how to do this later on. To start we will write some of the training code in the notebook so that we can more easily diagnose any issues that arise.\n",
    "\n",
    "First we will load a small portion of the training data set to use as a sample. It would be very time consuming to try and train the model completely in the notebook as we do not have access to a gpu and the compute instance that we are using is not particularly powerful. However, we can work on a small bit of the data to get a feel for how our training script is behaving."
   ]
  },
  {
   "cell_type": "code",
   "execution_count": null,
   "metadata": {},
   "outputs": [],
   "source": [
    "import torch\n",
    "import torch.utils.data\n",
    "\n",
    "# Read in only the first 250 rows\n",
    "train_sample = pd.read_csv(os.path.join(data_dir, 'train.csv'), header=None, names=None, nrows=250)\n",
    "\n",
    "# Turn the input pandas dataframe into tensors\n",
    "train_sample_y = torch.from_numpy(train_sample[[0]].values).float().squeeze()\n",
    "train_sample_X = torch.from_numpy(train_sample.drop([0], axis=1).values).long()\n",
    "\n",
    "# Build the dataset\n",
    "train_sample_ds = torch.utils.data.TensorDataset(train_sample_X, train_sample_y)\n",
    "# Build the dataloader\n",
    "train_sample_dl = torch.utils.data.DataLoader(train_sample_ds, batch_size=50)"
   ]
  },
  {
   "cell_type": "markdown",
   "metadata": {},
   "source": [
    "### (TODO) Writing the training method\n",
    "\n",
    "Next we need to write the training code itself. This should be very similar to training methods that you have written before to train PyTorch models. We will leave any difficult aspects such as model saving / loading and parameter loading until a little later."
   ]
  },
  {
   "cell_type": "code",
   "execution_count": null,
   "metadata": {},
   "outputs": [],
   "source": [
    "def train(model, train_loader, epochs, optimizer, loss_fn, device):\n",
    "    for epoch in range(1, epochs + 1):\n",
    "        model.train()\n",
    "        total_loss = 0\n",
    "        for batch in train_loader:         \n",
    "            batch_X, batch_y = batch\n",
    "            \n",
    "            batch_X = batch_X.to(device)\n",
    "            batch_y = batch_y.to(device)\n",
    "            \n",
    "            # TODO: Complete this train method to train the model provided.\n",
    "            \n",
    "            total_loss += loss.data.item()\n",
    "        print(\"Epoch: {}, BCELoss: {}\".format(epoch, total_loss / len(train_loader)))"
   ]
  },
  {
   "cell_type": "markdown",
   "metadata": {},
   "source": [
    "Supposing we have the training method above, we will test that it is working by writing a bit of code in the notebook that executes our training method on the small sample training set that we loaded earlier. The reason for doing this in the notebook is so that we have an opportunity to fix any errors that arise early when they are easier to diagnose."
   ]
  },
  {
   "cell_type": "code",
   "execution_count": null,
   "metadata": {},
   "outputs": [],
   "source": [
    "import torch.optim as optim\n",
    "from train.model import LSTMClassifier\n",
    "\n",
    "device = torch.device(\"cuda\" if torch.cuda.is_available() else \"cpu\")\n",
    "model = LSTMClassifier(32, 100, 5000).to(device)\n",
    "optimizer = optim.Adam(model.parameters())\n",
    "loss_fn = torch.nn.BCELoss()\n",
    "\n",
    "train(model, train_sample_dl, 5, optimizer, loss_fn, device)"
   ]
  },
  {
   "cell_type": "markdown",
   "metadata": {},
   "source": [
    "In order to construct a PyTorch model using SageMaker we must provide SageMaker with a training script. We may optionally include a directory which will be copied to the container and from which our training code will be run. When the training container is executed it will check the uploaded directory (if there is one) for a `requirements.txt` file and install any required Python libraries, after which the training script will be run."
   ]
  },
  {
   "cell_type": "markdown",
   "metadata": {},
   "source": [
    "### (TODO) Training the model\n",
    "\n",
    "When a PyTorch model is constructed in SageMaker, an entry point must be specified. This is the Python file which will be executed when the model is trained. Inside of the `train` directory is a file called `train.py` which has been provided and which contains most of the necessary code to train our model. The only thing that is missing is the implementation of the `train()` method which you wrote earlier in this notebook.\n",
    "\n",
    "**TODO**: Copy the `train()` method written above and paste it into the `train/train.py` file where required.\n",
    "\n",
    "The way that SageMaker passes hyperparameters to the training script is by way of arguments. These arguments can then be parsed and used in the training script. To see how this is done take a look at the provided `train/train.py` file."
   ]
  },
  {
   "cell_type": "code",
   "execution_count": null,
   "metadata": {},
   "outputs": [],
   "source": [
    "from sagemaker.pytorch import PyTorch\n",
    "\n",
    "estimator = PyTorch(entry_point=\"train.py\",\n",
    "                    source_dir=\"train\",\n",
    "                    role=role,\n",
    "                    framework_version='0.4.0',\n",
    "                    train_instance_count=1,\n",
    "                    train_instance_type='ml.p2.xlarge',\n",
    "                    hyperparameters={\n",
    "                        'epochs': 10,\n",
    "                        'hidden_dim': 200,\n",
    "                    })"
   ]
  },
  {
   "cell_type": "code",
   "execution_count": null,
   "metadata": {},
   "outputs": [],
   "source": [
    "estimator.fit({'training': input_data})"
   ]
  },
  {
   "cell_type": "markdown",
   "metadata": {},
   "source": [
    "## Step 5: Testing the model\n",
    "\n",
    "As mentioned at the top of this notebook, we will be testing this model by first deploying it and then sending the testing data to the deployed endpoint. We will do this so that we can make sure that the deployed model is working correctly.\n",
    "\n",
    "## Step 6: Deploy the model for testing\n",
    "\n",
    "Now that we have trained our model, we would like to test it to see how it performs. Currently our model takes input of the form `review_length, review[500]` where `review[500]` is a sequence of `500` integers which describe the words present in the review, encoded using `word_dict`. Fortunately for us, SageMaker provides built-in inference code for models with simple inputs such as this.\n",
    "\n",
    "There is one thing that we need to provide, however, and that is a function which loads the saved model. This function must be called `model_fn()` and takes as its only parameter a path to the directory where the model artifacts are stored. This function must also be present in the python file which we specified as the entry point. In our case the model loading function has been provided and so no changes need to be made.\n",
    "\n",
    "**NOTE**: When the built-in inference code is run it must import the `model_fn()` method from the `train.py` file. This is why the training code is wrapped in a main guard ( ie, `if __name__ == '__main__':` )\n",
    "\n",
    "Since we don't need to change anything in the code that was uploaded during training, we can simply deploy the current model as-is.\n",
    "\n",
    "**NOTE:** When deploying a model you are asking SageMaker to launch an compute instance that will wait for data to be sent to it. As a result, this compute instance will continue to run until *you* shut it down. This is important to know since the cost of a deployed endpoint depends on how long it has been running for.\n",
    "\n",
    "In other words **If you are no longer using a deployed endpoint, shut it down!**\n",
    "\n",
    "**TODO:** Deploy the trained model."
   ]
  },
  {
   "cell_type": "code",
   "execution_count": null,
   "metadata": {},
   "outputs": [],
   "source": [
    "# TODO: Deploy the trained model"
   ]
  },
  {
   "cell_type": "markdown",
   "metadata": {},
   "source": [
    "## Step 7 - Use the model for testing\n",
    "\n",
    "Once deployed, we can read in the test data and send it off to our deployed model to get some results. Once we collect all of the results we can determine how accurate our model is."
   ]
  },
  {
   "cell_type": "code",
   "execution_count": null,
   "metadata": {},
   "outputs": [],
   "source": [
    "test_X = pd.concat([pd.DataFrame(test_X_len), pd.DataFrame(test_X)], axis=1)"
   ]
  },
  {
   "cell_type": "code",
   "execution_count": null,
   "metadata": {},
   "outputs": [],
   "source": [
    "# We split the data into chunks and send each chunk seperately, accumulating the results.\n",
    "\n",
    "def predict(data, rows=512):\n",
    "    split_array = np.array_split(data, int(data.shape[0] / float(rows) + 1))\n",
    "    predictions = np.array([])\n",
    "    for array in split_array:\n",
    "        predictions = np.append(predictions, predictor.predict(array))\n",
    "    \n",
    "    return predictions"
   ]
  },
  {
   "cell_type": "code",
   "execution_count": null,
   "metadata": {},
   "outputs": [],
   "source": [
    "predictions = predict(test_X.values)\n",
    "predictions = [round(num) for num in predictions]"
   ]
  },
  {
   "cell_type": "code",
   "execution_count": null,
   "metadata": {},
   "outputs": [],
   "source": [
    "from sklearn.metrics import accuracy_score\n",
    "accuracy_score(test_y, predictions)"
   ]
  },
  {
   "cell_type": "markdown",
   "metadata": {},
   "source": [
    "**Question:** How does this model compare to the XGBoost model you created earlier? Why might these two models perform differently on this dataset? Which do *you* think is better for sentiment analysis?"
   ]
  },
  {
   "cell_type": "markdown",
   "metadata": {},
   "source": [
    "**Answer:**"
   ]
  },
  {
   "cell_type": "markdown",
   "metadata": {},
   "source": [
    "### (TODO) More testing\n",
    "\n",
    "We now have a trained model which has been deployed and which we can send processed reviews to and which returns the predicted sentiment. However, ultimately we would like to be able to send our model an unprocessed review. That is, we would like to send the review itself as a string. For example, suppose we wish to send the following review to our model."
   ]
  },
  {
   "cell_type": "code",
   "execution_count": null,
   "metadata": {},
   "outputs": [],
   "source": [
    "test_review = 'The simplest pleasures in life are the best, and this film is one of them. Combining a rather basic storyline of love and adventure this movie transcends the usual weekend fair with wit and unmitigated charm.'"
   ]
  },
  {
   "cell_type": "markdown",
   "metadata": {},
   "source": [
    "The question we now need to answer is, how do we send this review to our model?\n",
    "\n",
    "Recall in the first section of this notebook we did a bunch of data processing to the IMDb dataset. In particular, we did two specific things to the provided reviews.\n",
    " - Removed any html tags and stemmed the input\n",
    " - Encoded the review as a sequence of integers using `word_dict`\n",
    " \n",
    "In order process the review we will need to repeat these two steps.\n",
    "\n",
    "**TODO**: Using the `review_to_words` and `convert_and_pad` methods from section one, convert `test_review` into a numpy array `test_data` suitable to send to our model. Remember that our model expects input of the form `review_length, review[500]`."
   ]
  },
  {
   "cell_type": "code",
   "execution_count": null,
   "metadata": {},
   "outputs": [],
   "source": [
    "# TODO: Convert test_review into a form usable by the model and save the results in test_data\n",
    "test_data = None"
   ]
  },
  {
   "cell_type": "markdown",
   "metadata": {},
   "source": [
    "Now that we have processed the review, we can send the resulting array to our model to predict the sentiment of the review."
   ]
  },
  {
   "cell_type": "code",
   "execution_count": null,
   "metadata": {},
   "outputs": [],
   "source": [
    "predictor.predict(test_data)"
   ]
  },
  {
   "cell_type": "markdown",
   "metadata": {},
   "source": [
    "Since the return value of our model is close to `1`, we can be certain that the review we submitted is positive."
   ]
  },
  {
   "cell_type": "markdown",
   "metadata": {},
   "source": [
    "### Delete the endpoint\n",
    "\n",
    "Of course, just like in the XGBoost notebook, once we've deployed an endpoint it continues to run until we tell it to shut down. Since we are done using our endpoint for now, we can delete it."
   ]
  },
  {
   "cell_type": "code",
   "execution_count": null,
   "metadata": {},
   "outputs": [],
   "source": [
    "estimator.delete_endpoint()"
   ]
  },
  {
   "cell_type": "markdown",
   "metadata": {},
   "source": [
    "## Step 6 (again) - Deploy the model for the web app\n",
    "\n",
    "Now that we know that our model is working, it's time to create some custom inference code so that we can send the model a review which has not been processed and have it determine the sentiment of the review.\n",
    "\n",
    "As we saw above, by default the estimator which we created, when deployed, will use the entry script and directory which we provided when creating the model. However, since we now wish to accept a string as input and our model expects a processed review, we need to write some custom inference code.\n",
    "\n",
    "We will store the code that we write in the `serve` directory. Provided in this directory is the `model.py` file that we used to construct our model, a `utils.py` file which contains the `review_to_words` and `convert_and_pad` pre-processing functions which we used during the initial data processing, and `predict.py`, the file which will contain our custom inference code. Note also that `requirements.txt` is present which will tell SageMaker what Python libraries are required by our custom inference code.\n",
    "\n",
    "When deploying a PyTorch model in SageMaker, you are expected to provide four functions which the SageMaker inference container will use.\n",
    " - `model_fn`: This function is the same function that we used in the training script and it tells SageMaker how to load our model.\n",
    " - `input_fn`: This function receives the raw serialized input that has been sent to the model's endpoint and its job is to de-serialize and make the input available for the inference code.\n",
    " - `output_fn`: This function takes the output of the inference code and its job is to serialize this output and return it to the caller of the model's endpoint.\n",
    " - `predict_fn`: The heart of the inference script, this is where the actual prediction is done and is the function which you will need to complete.\n",
    "\n",
    "For the simple website that we are constructing during this project, the `input_fn` and `output_fn` methods are relatively straightforward. We only require being able to accept a string as input and we expect to return a single value as output. You might imagine though that in a more complex application the input or output may be image data or some other binary data which would require some effort to serialize.\n",
    "\n",
    "### (TODO) Writing inference code\n",
    "\n",
    "Before writing our custom inference code, we will begin by taking a look at the code which has been provided."
   ]
  },
  {
   "cell_type": "code",
   "execution_count": null,
   "metadata": {},
   "outputs": [],
   "source": [
    "!pygmentize serve/predict.py"
   ]
  },
  {
   "cell_type": "markdown",
   "metadata": {},
   "source": [
    "As mentioned earlier, the `model_fn` method is the same as the one provided in the training code and the `input_fn` and `output_fn` methods are very simple and your task will be to complete the `predict_fn` method. Make sure that you save the completed file as `predict.py` in the `serve` directory.\n",
    "\n",
    "**TODO**: Complete the `predict_fn()` method in the `serve/predict.py` file."
   ]
  },
  {
   "cell_type": "markdown",
   "metadata": {},
   "source": [
    "### Deploying the model\n",
    "\n",
    "Now that the custom inference code has been written, we will create and deploy our model. To begin with, we need to construct a new PyTorchModel object which points to the model artifacts created during training and also points to the inference code that we wish to use. Then we can call the deploy method to launch the deployment container.\n",
    "\n",
    "**NOTE**: The default behaviour for a deployed PyTorch model is to assume that any input passed to the predictor is a `numpy` array. In our case we want to send a string so we need to construct a simple wrapper around the `RealTimePredictor` class to accomodate simple strings. In a more complicated situation you may want to provide a serialization object, for example if you wanted to sent image data."
   ]
  },
  {
   "cell_type": "code",
   "execution_count": null,
   "metadata": {},
   "outputs": [],
   "source": [
    "from sagemaker.predictor import RealTimePredictor\n",
    "from sagemaker.pytorch import PyTorchModel\n",
    "\n",
    "class StringPredictor(RealTimePredictor):\n",
    "    def __init__(self, endpoint_name, sagemaker_session):\n",
    "        super(StringPredictor, self).__init__(endpoint_name, sagemaker_session, content_type='text/plain')\n",
    "\n",
    "model = PyTorchModel(model_data=estimator.model_data,\n",
    "                     role = role,\n",
    "                     framework_version='0.4.0',\n",
    "                     entry_point='predict.py',\n",
    "                     source_dir='serve',\n",
    "                     predictor_cls=StringPredictor)\n",
    "predictor = model.deploy(initial_instance_count=1, instance_type='ml.m4.xlarge')"
   ]
  },
  {
   "cell_type": "markdown",
   "metadata": {},
   "source": [
    "### Testing the model\n",
    "\n",
    "Now that we have deployed our model with the custom inference code, we should test to see if everything is working. Here we test our model by loading the first `250` positive and negative reviews and send them to the endpoint, then collect the results. The reason for only sending some of the data is that the amount of time it takes for our model to process the input and then perform inference is quite long and so testing the entire data set would be prohibitive."
   ]
  },
  {
   "cell_type": "code",
   "execution_count": null,
   "metadata": {},
   "outputs": [],
   "source": [
    "import glob\n",
    "\n",
    "def test_reviews(data_dir='../data/aclImdb', stop=250):\n",
    "    \n",
    "    results = []\n",
    "    ground = []\n",
    "    \n",
    "    # We make sure to test both positive and negative reviews    \n",
    "    for sentiment in ['pos', 'neg']:\n",
    "        \n",
    "        path = os.path.join(data_dir, 'test', sentiment, '*.txt')\n",
    "        files = glob.glob(path)\n",
    "        \n",
    "        files_read = 0\n",
    "        \n",
    "        print('Starting ', sentiment, ' files')\n",
    "        \n",
    "        # Iterate through the files and send them to the predictor\n",
    "        for f in files:\n",
    "            with open(f) as review:\n",
    "                # First, we store the ground truth (was the review positive or negative)\n",
    "                if sentiment == 'pos':\n",
    "                    ground.append(1)\n",
    "                else:\n",
    "                    ground.append(0)\n",
    "                # Read in the review and convert to 'utf-8' for transmission via HTTP\n",
    "                review_input = review.read().encode('utf-8')\n",
    "                # Send the review to the predictor and store the results\n",
    "                results.append(int(predictor.predict(review_input)))\n",
    "                \n",
    "            # Sending reviews to our endpoint one at a time takes a while so we\n",
    "            # only send a small number of reviews\n",
    "            files_read += 1\n",
    "            if files_read == stop:\n",
    "                break\n",
    "            \n",
    "    return ground, results"
   ]
  },
  {
   "cell_type": "code",
   "execution_count": null,
   "metadata": {},
   "outputs": [],
   "source": [
    "ground, results = test_reviews()"
   ]
  },
  {
   "cell_type": "code",
   "execution_count": null,
   "metadata": {},
   "outputs": [],
   "source": [
    "from sklearn.metrics import accuracy_score\n",
    "accuracy_score(ground, results)"
   ]
  },
  {
   "cell_type": "markdown",
   "metadata": {},
   "source": [
    "As an additional test, we can try sending the `test_review` that we looked at earlier."
   ]
  },
  {
   "cell_type": "code",
   "execution_count": null,
   "metadata": {},
   "outputs": [],
   "source": [
    "predictor.predict(test_review)"
   ]
  },
  {
   "cell_type": "markdown",
   "metadata": {},
   "source": [
    "Now that we know our endpoint is working as expected, we can set up the web page that will interact with it. If you don't have time to finish the project now, make sure to skip down to the end of this notebook and shut down your endpoint. You can deploy it again when you come back."
   ]
  },
  {
   "cell_type": "markdown",
   "metadata": {},
   "source": [
    "## Step 7 (again): Use the model for the web app\n",
    "\n",
    "> **TODO:** This entire section and the next contain tasks for you to complete, mostly using the AWS console.\n",
    "\n",
    "So far we have been accessing our model endpoint by constructing a predictor object which uses the endpoint and then just using the predictor object to perform inference. What if we wanted to create a web app which accessed our model? The way things are set up currently makes that not possible since in order to access a SageMaker endpoint the app would first have to authenticate with AWS using an IAM role which included access to SageMaker endpoints. However, there is an easier way! We just need to use some additional AWS services.\n",
    "\n",
    "<img src=\"Web App Diagram.svg\">\n",
    "\n",
    "The diagram above gives an overview of how the various services will work together. On the far right is the model which we trained above and which is deployed using SageMaker. On the far left is our web app that collects a user's movie review, sends it off and expects a positive or negative sentiment in return.\n",
    "\n",
    "In the middle is where some of the magic happens. We will construct a Lambda function, which you can think of as a straightforward Python function that can be executed whenever a specified event occurs. We will give this function permission to send and recieve data from a SageMaker endpoint.\n",
    "\n",
    "Lastly, the method we will use to execute the Lambda function is a new endpoint that we will create using API Gateway. This endpoint will be a url that listens for data to be sent to it. Once it gets some data it will pass that data on to the Lambda function and then return whatever the Lambda function returns. Essentially it will act as an interface that lets our web app communicate with the Lambda function.\n",
    "\n",
    "### Setting up a Lambda function\n",
    "\n",
    "The first thing we are going to do is set up a Lambda function. This Lambda function will be executed whenever our public API has data sent to it. When it is executed it will receive the data, perform any sort of processing that is required, send the data (the review) to the SageMaker endpoint we've created and then return the result.\n",
    "\n",
    "#### Part A: Create an IAM Role for the Lambda function\n",
    "\n",
    "Since we want the Lambda function to call a SageMaker endpoint, we need to make sure that it has permission to do so. To do this, we will construct a role that we can later give the Lambda function.\n",
    "\n",
    "Using the AWS Console, navigate to the **IAM** page and click on **Roles**. Then, click on **Create role**. Make sure that the **AWS service** is the type of trusted entity selected and choose **Lambda** as the service that will use this role, then click **Next: Permissions**.\n",
    "\n",
    "In the search box type `sagemaker` and select the check box next to the **AmazonSageMakerFullAccess** policy. Then, click on **Next: Review**.\n",
    "\n",
    "Lastly, give this role a name. Make sure you use a name that you will remember later on, for example `LambdaSageMakerRole`. Then, click on **Create role**.\n",
    "\n",
    "#### Part B: Create a Lambda function\n",
    "\n",
    "Now it is time to actually create the Lambda function.\n",
    "\n",
    "Using the AWS Console, navigate to the AWS Lambda page and click on **Create a function**. When you get to the next page, make sure that **Author from scratch** is selected. Now, name your Lambda function, using a name that you will remember later on, for example `sentiment_analysis_func`. Make sure that the **Python 3.6** runtime is selected and then choose the role that you created in the previous part. Then, click on **Create Function**.\n",
    "\n",
    "On the next page you will see some information about the Lambda function you've just created. If you scroll down you should see an editor in which you can write the code that will be executed when your Lambda function is triggered. In our example, we will use the code below. \n",
    "\n",
    "```python\n",
    "# We need to use the low-level library to interact with SageMaker since the SageMaker API\n",
    "# is not available natively through Lambda.\n",
    "import boto3\n",
    "\n",
    "def lambda_handler(event, context):\n",
    "\n",
    "    # The SageMaker runtime is what allows us to invoke the endpoint that we've created.\n",
    "    runtime = boto3.Session().client('sagemaker-runtime')\n",
    "\n",
    "    # Now we use the SageMaker runtime to invoke our endpoint, sending the review we were given\n",
    "    response = runtime.invoke_endpoint(EndpointName = '**ENDPOINT NAME HERE**',    # The name of the endpoint we created\n",
    "                                       ContentType = 'text/plain',                 # The data format that is expected\n",
    "                                       Body = event['body'])                       # The actual review\n",
    "\n",
    "    # The response is an HTTP response whose body contains the result of our inference\n",
    "    result = response['Body'].read().decode('utf-8')\n",
    "\n",
    "    return {\n",
    "        'statusCode' : 200,\n",
    "        'headers' : { 'Content-Type' : 'text/plain', 'Access-Control-Allow-Origin' : '*' },\n",
    "        'body' : result\n",
    "    }\n",
    "```\n",
    "\n",
    "Once you have copy and pasted the code above into the Lambda code editor, replace the `**ENDPOINT NAME HERE**` portion with the name of the endpoint that we deployed earlier. You can determine the name of the endpoint using the code cell below."
   ]
  },
  {
   "cell_type": "code",
   "execution_count": null,
   "metadata": {},
   "outputs": [],
   "source": [
    "predictor.endpoint"
   ]
  },
  {
   "cell_type": "markdown",
   "metadata": {},
   "source": [
    "Once you have added the endpoint name to the Lambda function, click on **Save**. Your Lambda function is now up and running. Next we need to create a way for our web app to execute the Lambda function.\n",
    "\n",
    "### Setting up API Gateway\n",
    "\n",
    "Now that our Lambda function is set up, it is time to create a new API using API Gateway that will trigger the Lambda function we have just created.\n",
    "\n",
    "Using AWS Console, navigate to **Amazon API Gateway** and then click on **Get started**.\n",
    "\n",
    "On the next page, make sure that **New API** is selected and give the new api a name, for example, `sentiment_analysis_api`. Then, click on **Create API**.\n",
    "\n",
    "Now we have created an API, however it doesn't currently do anything. What we want it to do is to trigger the Lambda function that we created earlier.\n",
    "\n",
    "Select the **Actions** dropdown menu and click **Create Method**. A new blank method will be created, select its dropdown menu and select **POST**, then click on the check mark beside it.\n",
    "\n",
    "For the integration point, make sure that **Lambda Function** is selected and click on the **Use Lambda Proxy integration**. This option makes sure that the data that is sent to the API is then sent directly to the Lambda function with no processing. It also means that the return value must be a proper response object as it will also not be processed by API Gateway.\n",
    "\n",
    "Type the name of the Lambda function you created earlier into the **Lambda Function** text entry box and then click on **Save**. Click on **OK** in the pop-up box that then appears, giving permission to API Gateway to invoke the Lambda function you created.\n",
    "\n",
    "The last step in creating the API Gateway is to select the **Actions** dropdown and click on **Deploy API**. You will need to create a new Deployment stage and name it anything you like, for example `prod`.\n",
    "\n",
    "You have now successfully set up a public API to access your SageMaker model. Make sure to copy or write down the URL provided to invoke your newly created public API as this will be needed in the next step. This URL can be found at the top of the page, highlighted in blue next to the text **Invoke URL**."
   ]
  },
  {
   "cell_type": "markdown",
   "metadata": {},
   "source": [
    "## Step 4: Deploying our web app\n",
    "\n",
    "Now that we have a publicly available API, we can start using it in a web app. For our purposes, we have provided a simple static html file which can make use of the public api you created earlier.\n",
    "\n",
    "In the `website` folder there should be a file called `index.html`. Download the file to your computer and open that file up in a text editor of your choice. There should be a line which contains **\\*\\*REPLACE WITH PUBLIC API URL\\*\\***. Replace this string with the url that you wrote down in the last step and then save the file.\n",
    "\n",
    "Now, if you open `index.html` on your local computer, your browser will behave as a local web server and you can use the provided site to interact with your SageMaker model.\n",
    "\n",
    "If you'd like to go further, you can host this html file anywhere you'd like, for example using github or hosting a static site on Amazon's S3. Once you have done this you can share the link with anyone you'd like and have them play with it too!\n",
    "\n",
    "> **Important Note** In order for the web app to communicate with the SageMaker endpoint, the endpoint has to actually be deployed and running. This means that you are paying for it. Make sure that the endpoint is running when you want to use the web app but that you shut it down when you don't need it, otherwise you will end up with a surprisingly large AWS bill.\n",
    "\n",
    "**TODO:** Make sure that you include the edited `index.html` file in your project submission."
   ]
  },
  {
   "cell_type": "markdown",
   "metadata": {},
   "source": [
    "Now that your web app is working, trying playing around with it and see how well it works.\n",
    "\n",
    "**Question**: Give an example of a review that you entered into your web app. What was the predicted sentiment of your example review?"
   ]
  },
  {
   "cell_type": "markdown",
   "metadata": {},
   "source": [
    "**Answer:**"
   ]
  },
  {
   "cell_type": "markdown",
   "metadata": {},
   "source": [
    "### Delete the endpoint\n",
    "\n",
    "Remember to always shut down your endpoint if you are no longer using it. You are charged for the length of time that the endpoint is running so if you forget and leave it on you could end up with an unexpectedly large bill."
   ]
  },
  {
   "cell_type": "code",
   "execution_count": null,
   "metadata": {},
   "outputs": [],
   "source": [
    "predictor.delete_endpoint()"
   ]
  },
  {
   "cell_type": "code",
   "execution_count": null,
   "metadata": {},
   "outputs": [],
   "source": []
  }
 ],
 "metadata": {
  "kernelspec": {
   "display_name": "conda_pytorch_p36",
   "language": "python",
   "name": "conda_pytorch_p36"
  },
  "language_info": {
   "codemirror_mode": {
    "name": "ipython",
    "version": 3
   },
   "file_extension": ".py",
   "mimetype": "text/x-python",
   "name": "python",
   "nbconvert_exporter": "python",
   "pygments_lexer": "ipython3",
   "version": "3.6.10"
  }
 },
 "nbformat": 4,
 "nbformat_minor": 2
}
